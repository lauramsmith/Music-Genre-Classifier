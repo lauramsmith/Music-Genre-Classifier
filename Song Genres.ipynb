{
 "cells": [
  {
   "cell_type": "code",
   "execution_count": 2,
   "metadata": {
    "collapsed": true
   },
   "outputs": [],
   "source": [
    "import sys\n",
    "import numpy as np\n",
    "import mxnet as mx\n",
    "import tensorflow as tf\n",
    "from datascience import *\n",
    "import math as math"
   ]
  },
  {
   "cell_type": "code",
   "execution_count": 70,
   "metadata": {
    "collapsed": true
   },
   "outputs": [],
   "source": [
    "batch_size = 100\n",
    "num_it = 1500\n",
    "num_words = 4817\n",
    "num_genre = 2"
   ]
  },
  {
   "cell_type": "code",
   "execution_count": 4,
   "metadata": {
    "collapsed": false
   },
   "outputs": [],
   "source": [
    "#lyrics = Table().read_table('lyrics3.csv')\n",
    "# altered = lyrics.select(np.arange(2, lyrics.num_columns))\n",
    "# altered.to_csv('genreAndProp.csv')\n",
    "# propsOnly = lyrics.select(np.arange(3, lyrics.num_columns))\n",
    "# genresOnly = Table().with_columns('Country', lyrics.apply(lambda x: ((int) (x=='Country')) , 'Genre'), 'Hip-hop', lyrics.apply(lambda x: ((int) (x=='Hip-hop')) , 'Genre'))\n",
    "# propsOnly.to_csv('lyricsProps.csv')\n",
    "# genresOnly.to_csv('lyricsGenres.csv')\n",
    "#table = lyrics.drop(0, 1, 2).with_columns(\"Country\", lyrics.apply(lambda x: ((int) (x=='Country')) , 'Genre'), \"Hip-hop\", lyrics.apply(lambda x: ((int) (x == \"Hip-hop\")), \"Genre\"))\n",
    "table = Table().read_table('vectorize.csv')"
   ]
  },
  {
   "cell_type": "markdown",
   "metadata": {},
   "source": [
    "Our input vectors are of length 4817, because we have 4817 words.\n",
    "Our output vectors are of length 2, and are a softmax. 1 in the first position means country, 1 in the second position means hip hop."
   ]
  },
  {
   "cell_type": "code",
   "execution_count": 6,
   "metadata": {
    "collapsed": false
   },
   "outputs": [],
   "source": [
    "table.to_csv('vectorize.csv')"
   ]
  },
  {
   "cell_type": "code",
   "execution_count": 5,
   "metadata": {
    "collapsed": false
   },
   "outputs": [],
   "source": [
    "arr = np.array(table.row(0))\n",
    "allX = np.array(np.array([arr[:num_words]]))\n",
    "allY = np.array(np.array([arr[num_words:]]))\n",
    "trainX = np.array(np.array([arr[:num_words]]))\n",
    "trainY = np.array(np.array([arr[num_words:]]))\n",
    "#num_rows = 1721\n",
    "#1205 is ~70% of num_rows\n",
    "#1378 is ~80% of num_rows\n",
    "for i in range(1, 1378):\n",
    "    arr = np.array(table.row(i))\n",
    "    trainX = np.vstack((trainX, np.array([arr[:num_words]])))\n",
    "    trainY = np.vstack((trainY, np.array([arr[num_words:]])))\n",
    "    allX = np.vstack((allX, np.array([arr[:num_words]])))\n",
    "    allY = np.vstack((allY, np.array([arr[num_words:]])))\n",
    "    \n",
    "testX = np.array(np.array([arr[:num_words]]))\n",
    "testY = np.array(np.array([arr[num_words:]]))\n",
    "for i in range (1378, table.num_rows):\n",
    "    arr = np.array(table.row(i))\n",
    "    testX = np.vstack((testX, np.array([arr[:num_words]])))\n",
    "    testY = np.vstack((testY, np.array([arr[num_words:]])))\n",
    "    allX = np.vstack((allX, np.array([arr[:num_words]])))\n",
    "    allY = np.vstack((allY, np.array([arr[num_words:]])))"
   ]
  },
  {
   "cell_type": "code",
   "execution_count": 46,
   "metadata": {
    "collapsed": false
   },
   "outputs": [],
   "source": [
    "rand = np.sort(np.random.choice(table.num_rows, 1250, replace=False))\n",
    "strainX = np.array([np.zeros(num_words)])\n",
    "strainY = np.array([np.zeros(num_genre)])\n",
    "stestX = np.array([np.zeros(num_words)])\n",
    "stestY = np.array([np.zeros(num_genre)])\n",
    "count = 0\n",
    "for i in range(0, table.num_rows):\n",
    "    arr = np.array(table.row(i))\n",
    "    if (count < 1250 and rand[count] == i):\n",
    "        count+=1\n",
    "        strainX = np.vstack((strainX, np.array([arr[:num_words]])))\n",
    "        strainY = np.vstack((strainY, np.array([arr[num_words:]])))\n",
    "    else:\n",
    "        stestX = np.vstack((stestX, np.array([arr[:num_words]])))\n",
    "        stestY = np.vstack((stestY, np.array([arr[num_words:]])))\n",
    "strainX = strainX[1:]\n",
    "strainY = strainY[1:]\n",
    "stestX = stestX[1:]\n",
    "stestY = stestY[1:]"
   ]
  },
  {
   "cell_type": "code",
   "execution_count": 67,
   "metadata": {
    "collapsed": false
   },
   "outputs": [],
   "source": [
    "x = tf.placeholder(tf.float32, [None, num_words])\n",
    "\n",
    "keep_prob = tf.placeholder(tf.float32)\n",
    "drop = tf.nn.dropout(x, keep_prob)\n",
    "\n",
    "W1 = tf.Variable(tf.truncated_normal([num_words, 500],\n",
    "                                    stddev=1./math.sqrt(num_words)))\n",
    "b1 = tf.Variable(tf.zeros([500]))\n",
    "y1 = tf.nn.relu(tf.matmul(drop, W1) + b1)\n",
    "\n",
    "# W2 = tf.Variable(tf.truncated_normal([500, 250],\n",
    "#                                     stddev=1./math.sqrt(num_words)))\n",
    "# b2 = tf.Variable(tf.zeros([250]))\n",
    "# y2 = tf.nn.relu(tf.matmul(y1, W2) + b2)\n",
    "\n",
    "W3 = tf.Variable(tf.truncated_normal([500, num_genre],\n",
    "                                    stddev=1./math.sqrt(num_words)))\n",
    "b3 = tf.Variable(tf.zeros([num_genre]))\n",
    "y3 = tf.nn.softmax(tf.matmul(y1, W3) + b3)\n",
    "\n",
    "\n",
    "# # x = tf.placeholder(tf.float32, [None, num_words])\n",
    "# # W = tf.Variable(tf.zeros([4976, 2]))\n",
    "# W = tf.Variable(tf.truncated_normal([num_words, num_genre],\n",
    "#                                     stddev=1./math.sqrt(num_words)))\n",
    "\n",
    "\n",
    "# b = tf.Variable(tf.zeros([num_genre]))\n",
    "# y = tf.nn.softmax(tf.matmul(drop, W) + b)"
   ]
  },
  {
   "cell_type": "code",
   "execution_count": 73,
   "metadata": {
    "collapsed": false
   },
   "outputs": [],
   "source": [
    "y_ = tf.placeholder(tf.float32, [None, num_genre])\n",
    "cross_entropy = tf.reduce_mean(-tf.reduce_sum(y_ * tf.log(y3), reduction_indices=[1]))\n",
    "# cross_entropy = tf.reduce_mean(tf.nn.softmax_cross_entropy_with_logits(y, y_))\n",
    "#train_step = tf.train.GradientDescentOptimizer(0.5).minimize(cross_entropy)\n",
    "train_step = tf.train.AdamOptimizer(5e-3).minimize(cross_entropy)"
   ]
  },
  {
   "cell_type": "code",
   "execution_count": 74,
   "metadata": {
    "collapsed": false,
    "scrolled": true
   },
   "outputs": [
    {
     "name": "stdout",
     "output_type": "stream",
     "text": [
      "training session 0 \t|training accuracy 0.472 \t|test accuracy 0.464968\n",
      "training session 1 \t|training accuracy 0.5296 \t|test accuracy 0.464968\n",
      "training session 2 \t|training accuracy 0.464968 \t|test accuracy 0.547771\n",
      "training session 3 \t|training accuracy 0.596 \t|test accuracy 0.585987\n",
      "training session 4 \t|training accuracy 0.6216 \t|test accuracy 0.585987\n",
      "training session 5 \t|training accuracy 0.590234 \t|test accuracy 0.58811\n",
      "training session 6 \t|training accuracy 0.6272 \t|test accuracy 0.596603\n",
      "training session 7 \t|training accuracy 0.602972 \t|test accuracy 0.611465\n",
      "training session 8 \t|training accuracy 0.6528 \t|test accuracy 0.660297\n",
      "training session 9 \t|training accuracy 0.7168 \t|test accuracy 0.719745\n",
      "training session 10 \t|training accuracy 0.7352 \t|test accuracy 0.751592\n",
      "training session 11 \t|training accuracy 0.7672 \t|test accuracy 0.77707\n",
      "training session 12 \t|training accuracy 0.7808 \t|test accuracy 0.794055\n",
      "training session 13 \t|training accuracy 0.7976 \t|test accuracy 0.81104\n",
      "training session 14 \t|training accuracy 0.8144 \t|test accuracy 0.830149\n",
      "training session 15 \t|training accuracy 0.828 \t|test accuracy 0.861996\n",
      "training session 16 \t|training accuracy 0.8512 \t|test accuracy 0.874735\n",
      "training session 17 \t|training accuracy 0.8496 \t|test accuracy 0.874735\n",
      "training session 18 \t|training accuracy 0.8592 \t|test accuracy 0.874735\n",
      "training session 19 \t|training accuracy 0.8736 \t|test accuracy 0.876858\n",
      "training session 20 \t|training accuracy 0.868 \t|test accuracy 0.887473\n",
      "training session 21 \t|training accuracy 0.888 \t|test accuracy 0.898089\n",
      "training session 22 \t|training accuracy 0.8808 \t|test accuracy 0.895966\n",
      "training session 23 \t|training accuracy 0.8912 \t|test accuracy 0.89172\n",
      "training session 24 \t|training accuracy 0.8928 \t|test accuracy 0.89172\n",
      "training session 25 \t|training accuracy 0.9056 \t|test accuracy 0.89172\n",
      "training session 26 \t|training accuracy 0.8928 \t|test accuracy 0.889597\n",
      "training session 27 \t|training accuracy 0.8936 \t|test accuracy 0.889597\n",
      "training session 28 \t|training accuracy 0.9 \t|test accuracy 0.89172\n",
      "training session 29 \t|training accuracy 0.9128 \t|test accuracy 0.895966\n",
      "training session 30 \t|training accuracy 0.9112 \t|test accuracy 0.889597\n",
      "training session 31 \t|training accuracy 0.9184 \t|test accuracy 0.893843\n",
      "training session 32 \t|training accuracy 0.9048 \t|test accuracy 0.898089\n",
      "training session 33 \t|training accuracy 0.9088 \t|test accuracy 0.895966\n",
      "training session 34 \t|training accuracy 0.92 \t|test accuracy 0.895966\n",
      "training session 35 \t|training accuracy 0.9248 \t|test accuracy 0.902335\n",
      "training session 36 \t|training accuracy 0.912 \t|test accuracy 0.900212\n",
      "training session 37 \t|training accuracy 0.9176 \t|test accuracy 0.898089\n",
      "training session 38 \t|training accuracy 0.9352 \t|test accuracy 0.89172\n",
      "training session 39 \t|training accuracy 0.861996 \t|test accuracy 0.902335\n",
      "training session 40 \t|training accuracy 0.9296 \t|test accuracy 0.902335\n",
      "training session 41 \t|training accuracy 0.874735 \t|test accuracy 0.904459\n",
      "training session 42 \t|training accuracy 0.9296 \t|test accuracy 0.908705\n",
      "training session 43 \t|training accuracy 0.9288 \t|test accuracy 0.902335\n",
      "training session 44 \t|training accuracy 0.883227 \t|test accuracy 0.910828\n",
      "training session 45 \t|training accuracy 0.9344 \t|test accuracy 0.919321\n",
      "training session 46 \t|training accuracy 0.9352 \t|test accuracy 0.927813\n",
      "training session 47 \t|training accuracy 0.936 \t|test accuracy 0.92569\n",
      "training session 48 \t|training accuracy 0.9408 \t|test accuracy 0.923567\n",
      "training session 49 \t|training accuracy 0.9336 \t|test accuracy 0.921444\n",
      "training session 50 \t|training accuracy 0.9408 \t|test accuracy 0.929936\n",
      "training session 51 \t|training accuracy 0.9344 \t|test accuracy 0.936306\n",
      "training session 52 \t|training accuracy 0.9424 \t|test accuracy 0.938429\n",
      "training session 53 \t|training accuracy 0.9472 \t|test accuracy 0.934183\n",
      "training session 54 \t|training accuracy 0.9512 \t|test accuracy 0.936306\n",
      "training session 55 \t|training accuracy 0.9456 \t|test accuracy 0.938429\n",
      "training session 56 \t|training accuracy 0.9504 \t|test accuracy 0.929936\n",
      "training session 57 \t|training accuracy 0.9448 \t|test accuracy 0.938429\n",
      "training session 58 \t|training accuracy 0.9568 \t|test accuracy 0.934183\n",
      "training session 59 \t|training accuracy 0.9488 \t|test accuracy 0.929936\n",
      "training session 60 \t|training accuracy 0.9544 \t|test accuracy 0.929936\n",
      "training session 61 \t|training accuracy 0.9632 \t|test accuracy 0.932059\n",
      "training session 62 \t|training accuracy 0.895966 \t|test accuracy 0.934183\n",
      "training session 63 \t|training accuracy 0.9576 \t|test accuracy 0.940552\n",
      "training session 64 \t|training accuracy 0.9632 \t|test accuracy 0.936306\n",
      "training session 65 \t|training accuracy 0.89172 \t|test accuracy 0.938429\n",
      "training session 66 \t|training accuracy 0.9616 \t|test accuracy 0.938429\n",
      "training session 67 \t|training accuracy 0.9488 \t|test accuracy 0.942675\n",
      "training session 68 \t|training accuracy 0.9624 \t|test accuracy 0.951168\n",
      "training session 69 \t|training accuracy 0.9528 \t|test accuracy 0.932059\n",
      "training session 70 \t|training accuracy 0.9552 \t|test accuracy 0.932059\n",
      "training session 71 \t|training accuracy 0.9592 \t|test accuracy 0.942675\n",
      "training session 72 \t|training accuracy 0.9608 \t|test accuracy 0.961783\n",
      "training session 73 \t|training accuracy 0.9632 \t|test accuracy 0.949045\n",
      "training session 74 \t|training accuracy 0.9584 \t|test accuracy 0.955414\n",
      "training session 75 \t|training accuracy 0.964 \t|test accuracy 0.961783\n",
      "training session 76 \t|training accuracy 0.9624 \t|test accuracy 0.942675\n",
      "training session 77 \t|training accuracy 0.9736 \t|test accuracy 0.938429\n",
      "training session 78 \t|training accuracy 0.910828 \t|test accuracy 0.95966\n",
      "training session 79 \t|training accuracy 0.9664 \t|test accuracy 0.953291\n",
      "training session 80 \t|training accuracy 0.9624 \t|test accuracy 0.951168\n",
      "training session 81 \t|training accuracy 0.9656 \t|test accuracy 0.955414\n",
      "training session 82 \t|training accuracy 0.9672 \t|test accuracy 0.957537\n",
      "training session 83 \t|training accuracy 0.9608 \t|test accuracy 0.940552\n",
      "training session 84 \t|training accuracy 0.9704 \t|test accuracy 0.942675\n",
      "training session 85 \t|training accuracy 0.895966 \t|test accuracy 0.957537\n",
      "training session 86 \t|training accuracy 0.9712 \t|test accuracy 0.949045\n",
      "training session 87 \t|training accuracy 0.9704 \t|test accuracy 0.953291\n",
      "training session 88 \t|training accuracy 0.9704 \t|test accuracy 0.957537\n",
      "training session 89 \t|training accuracy 0.9648 \t|test accuracy 0.949045\n",
      "training session 90 \t|training accuracy 0.9704 \t|test accuracy 0.946921\n",
      "training session 91 \t|training accuracy 0.968 \t|test accuracy 0.953291\n",
      "training session 92 \t|training accuracy 0.9784 \t|test accuracy 0.955414\n",
      "training session 93 \t|training accuracy 0.9696 \t|test accuracy 0.955414\n",
      "training session 94 \t|training accuracy 0.9624 \t|test accuracy 0.955414\n",
      "training session 95 \t|training accuracy 0.9704 \t|test accuracy 0.953291\n",
      "training session 96 \t|training accuracy 0.9744 \t|test accuracy 0.949045\n",
      "training session 97 \t|training accuracy 0.921444 \t|test accuracy 0.951168\n",
      "training session 98 \t|training accuracy 0.976 \t|test accuracy 0.953291\n",
      "training session 99 \t|training accuracy 0.9816 \t|test accuracy 0.953291\n",
      "training session 100 \t|training accuracy 0.908705 \t|test accuracy 0.955414\n",
      "training session 101 \t|training accuracy 0.9728 \t|test accuracy 0.955414\n",
      "training session 102 \t|training accuracy 0.9784 \t|test accuracy 0.951168\n",
      "training session 103 \t|training accuracy 0.912951 \t|test accuracy 0.957537\n",
      "training session 104 \t|training accuracy 0.968 \t|test accuracy 0.95966\n",
      "training session 105 \t|training accuracy 0.9696 \t|test accuracy 0.953291\n",
      "training session 106 \t|training accuracy 0.9672 \t|test accuracy 0.953291\n",
      "training session 107 \t|training accuracy 0.9712 \t|test accuracy 0.955414\n",
      "training session 108 \t|training accuracy 0.9736 \t|test accuracy 0.95966\n",
      "training session 109 \t|training accuracy 0.976 \t|test accuracy 0.963907\n",
      "training session 110 \t|training accuracy 0.9768 \t|test accuracy 0.96603\n",
      "training session 111 \t|training accuracy 0.98 \t|test accuracy 0.970276\n",
      "training session 112 \t|training accuracy 0.9696 \t|test accuracy 0.961783\n",
      "training session 113 \t|training accuracy 0.9744 \t|test accuracy 0.961783\n",
      "training session 114 \t|training accuracy 0.9696 \t|test accuracy 0.95966\n",
      "training session 115 \t|training accuracy 0.968 \t|test accuracy 0.961783\n",
      "training session 116 \t|training accuracy 0.972 \t|test accuracy 0.96603\n",
      "training session 117 \t|training accuracy 0.976 \t|test accuracy 0.968153\n",
      "training session 118 \t|training accuracy 0.9784 \t|test accuracy 0.961783\n",
      "training session 119 \t|training accuracy 0.9704 \t|test accuracy 0.95966\n",
      "training session 120 \t|training accuracy 0.9704 \t|test accuracy 0.95966\n",
      "training session 121 \t|training accuracy 0.9832 \t|test accuracy 0.957537\n",
      "training session 122 \t|training accuracy 0.927813 \t|test accuracy 0.961783\n",
      "training session 123 \t|training accuracy 0.98 \t|test accuracy 0.968153\n",
      "training session 124 \t|training accuracy 0.976 \t|test accuracy 0.968153\n",
      "training session 125 \t|training accuracy 0.98 \t|test accuracy 0.961783\n",
      "training session 126 \t|training accuracy 0.9728 \t|test accuracy 0.961783\n",
      "training session 127 \t|training accuracy 0.9784 \t|test accuracy 0.96603\n",
      "training session 128 \t|training accuracy 0.9776 \t|test accuracy 0.970276\n",
      "training session 129 \t|training accuracy 0.9776 \t|test accuracy 0.970276\n",
      "training session 130 \t|training accuracy 0.9744 \t|test accuracy 0.970276\n",
      "training session 131 \t|training accuracy 0.9688 \t|test accuracy 0.970276\n",
      "training session 132 \t|training accuracy 0.9856 \t|test accuracy 0.96603\n",
      "training session 133 \t|training accuracy 0.9736 \t|test accuracy 0.963907\n",
      "training session 134 \t|training accuracy 0.9768 \t|test accuracy 0.96603\n",
      "training session 135 \t|training accuracy 0.9824 \t|test accuracy 0.961783\n",
      "training session 136 \t|training accuracy 0.9784 \t|test accuracy 0.96603\n",
      "training session 137 \t|training accuracy 0.976 \t|test accuracy 0.96603\n",
      "training session 138 \t|training accuracy 0.9704 \t|test accuracy 0.96603\n",
      "training session 139 \t|training accuracy 0.9816 \t|test accuracy 0.963907\n",
      "training session 140 \t|training accuracy 0.9808 \t|test accuracy 0.96603\n",
      "training session 141 \t|training accuracy 0.9792 \t|test accuracy 0.963907\n",
      "training session 142 \t|training accuracy 0.9816 \t|test accuracy 0.963907\n",
      "training session 143 \t|training accuracy 0.9768 \t|test accuracy 0.963907\n",
      "training session 144 \t|training accuracy 0.9816 \t|test accuracy 0.961783\n",
      "training session 145 \t|training accuracy 0.9752 \t|test accuracy 0.963907\n",
      "training session 146 \t|training accuracy 0.9776 \t|test accuracy 0.963907\n",
      "training session 147 \t|training accuracy 0.9808 \t|test accuracy 0.968153\n",
      "training session 148 \t|training accuracy 0.9808 \t|test accuracy 0.963907\n",
      "training session 149 \t|training accuracy 0.9792 \t|test accuracy 0.95966\n",
      "training session 150 \t|training accuracy 0.9792 \t|test accuracy 0.95966\n",
      "training session 151 \t|training accuracy 0.9808 \t|test accuracy 0.957537\n",
      "training session 152 \t|training accuracy 0.9832 \t|test accuracy 0.955414\n",
      "training session 153 \t|training accuracy 0.923567 \t|test accuracy 0.95966\n",
      "training session 154 \t|training accuracy 0.9776 \t|test accuracy 0.963907\n",
      "training session 155 \t|training accuracy 0.984 \t|test accuracy 0.957537\n",
      "training session 156 \t|training accuracy 0.923567 \t|test accuracy 0.955414\n",
      "training session 157 \t|training accuracy 0.9872 \t|test accuracy 0.955414\n",
      "training session 158 \t|training accuracy 0.936306 \t|test accuracy 0.957537\n",
      "training session 159 \t|training accuracy 0.9776 \t|test accuracy 0.974522\n",
      "training session 160 \t|training accuracy 0.9808 \t|test accuracy 0.974522\n",
      "training session 161 \t|training accuracy 0.9776 \t|test accuracy 0.976645\n",
      "training session 162 \t|training accuracy 0.9816 \t|test accuracy 0.978769\n",
      "training session 163 \t|training accuracy 0.9768 \t|test accuracy 0.978769\n",
      "training session 164 \t|training accuracy 0.9776 \t|test accuracy 0.978769\n",
      "training session 165 \t|training accuracy 0.9808 \t|test accuracy 0.983015\n",
      "training session 166 \t|training accuracy 0.9744 \t|test accuracy 0.983015\n",
      "training session 167 \t|training accuracy 0.9696 \t|test accuracy 0.983015\n",
      "training session 168 \t|training accuracy 0.9768 \t|test accuracy 0.985138\n",
      "training session 169 \t|training accuracy 0.9808 \t|test accuracy 0.983015\n",
      "training session 170 \t|training accuracy 0.9808 \t|test accuracy 0.983015\n",
      "training session 171 \t|training accuracy 0.9776 \t|test accuracy 0.985138\n",
      "training session 172 \t|training accuracy 0.98 \t|test accuracy 0.985138\n",
      "training session 173 \t|training accuracy 0.9792 \t|test accuracy 0.985138\n",
      "training session 174 \t|training accuracy 0.9816 \t|test accuracy 0.985138\n",
      "training session 175 \t|training accuracy 0.9784 \t|test accuracy 0.983015\n",
      "training session 176 \t|training accuracy 0.9808 \t|test accuracy 0.978769\n",
      "training session 177 \t|training accuracy 0.98 \t|test accuracy 0.978769\n",
      "training session 178 \t|training accuracy 0.984 \t|test accuracy 0.983015\n",
      "training session 179 \t|training accuracy 0.9856 \t|test accuracy 0.978769\n",
      "training session 180 \t|training accuracy 0.98 \t|test accuracy 0.978769\n",
      "training session 181 \t|training accuracy 0.9808 \t|test accuracy 0.976645\n",
      "training session 182 \t|training accuracy 0.984 \t|test accuracy 0.976645\n",
      "training session 183 \t|training accuracy 0.98 \t|test accuracy 0.976645\n",
      "training session 184 \t|training accuracy 0.9848 \t|test accuracy 0.976645\n",
      "training session 185 \t|training accuracy 0.9808 \t|test accuracy 0.970276\n",
      "training session 186 \t|training accuracy 0.9864 \t|test accuracy 0.970276\n",
      "training session 187 \t|training accuracy 0.984 \t|test accuracy 0.968153\n",
      "training session 188 \t|training accuracy 0.9864 \t|test accuracy 0.96603\n",
      "training session 189 \t|training accuracy 0.9808 \t|test accuracy 0.972399\n",
      "training session 190 \t|training accuracy 0.9792 \t|test accuracy 0.970276\n",
      "training session 191 \t|training accuracy 0.9856 \t|test accuracy 0.970276\n",
      "training session 192 \t|training accuracy 0.98 \t|test accuracy 0.96603\n",
      "training session 193 \t|training accuracy 0.98 \t|test accuracy 0.970276\n",
      "training session 194 \t|training accuracy 0.984 \t|test accuracy 0.968153\n",
      "training session 195 \t|training accuracy 0.9856 \t|test accuracy 0.96603\n",
      "training session 196 \t|training accuracy 0.9872 \t|test accuracy 0.963907\n",
      "training session 197 \t|training accuracy 0.984 \t|test accuracy 0.957537\n",
      "training session 198 \t|training accuracy 0.908705 \t|test accuracy 0.968153\n",
      "training session 199 \t|training accuracy 0.9816 \t|test accuracy 0.961783\n",
      "training session 200 \t|training accuracy 0.9712 \t|test accuracy 0.970276\n",
      "training session 201 \t|training accuracy 0.9792 \t|test accuracy 0.963907\n",
      "training session 202 \t|training accuracy 0.988 \t|test accuracy 0.946921\n",
      "training session 203 \t|training accuracy 0.902335 \t|test accuracy 0.972399\n",
      "training session 204 \t|training accuracy 0.9856 \t|test accuracy 0.968153\n",
      "training session 205 \t|training accuracy 0.976 \t|test accuracy 0.970276\n",
      "training session 206 \t|training accuracy 0.9768 \t|test accuracy 0.972399\n",
      "training session 207 \t|training accuracy 0.976 \t|test accuracy 0.980892\n",
      "training session 208 \t|training accuracy 0.9856 \t|test accuracy 0.95966\n",
      "training session 209 \t|training accuracy 0.934183 \t|test accuracy 0.968153\n",
      "training session 210 \t|training accuracy 0.9752 \t|test accuracy 0.983015\n",
      "training session 211 \t|training accuracy 0.984 \t|test accuracy 0.980892\n",
      "training session 212 \t|training accuracy 0.9832 \t|test accuracy 0.980892\n",
      "training session 213 \t|training accuracy 0.984 \t|test accuracy 0.983015\n",
      "training session 214 \t|training accuracy 0.9848 \t|test accuracy 0.978769\n",
      "training session 215 \t|training accuracy 0.9744 \t|test accuracy 0.972399\n",
      "training session 216 \t|training accuracy 0.9856 \t|test accuracy 0.976645\n",
      "training session 217 \t|training accuracy 0.9832 \t|test accuracy 0.980892\n",
      "training session 218 \t|training accuracy 0.98 \t|test accuracy 0.985138\n",
      "training session 219 \t|training accuracy 0.9864 \t|test accuracy 0.985138\n",
      "training session 220 \t|training accuracy 0.98 \t|test accuracy 0.980892\n",
      "training session 221 \t|training accuracy 0.9776 \t|test accuracy 0.985138\n",
      "training session 222 \t|training accuracy 0.98 \t|test accuracy 0.983015\n",
      "training session 223 \t|training accuracy 0.9896 \t|test accuracy 0.980892\n",
      "training session 224 \t|training accuracy 0.9856 \t|test accuracy 0.980892\n",
      "training session 225 \t|training accuracy 0.9808 \t|test accuracy 0.983015\n",
      "training session 226 \t|training accuracy 0.9792 \t|test accuracy 0.980892\n",
      "training session 227 \t|training accuracy 0.9912 \t|test accuracy 0.983015\n",
      "training session 228 \t|training accuracy 0.9872 \t|test accuracy 0.983015\n",
      "training session 229 \t|training accuracy 0.976 \t|test accuracy 0.978769\n",
      "training session 230 \t|training accuracy 0.9848 \t|test accuracy 0.980892\n",
      "training session 231 \t|training accuracy 0.9856 \t|test accuracy 0.978769\n",
      "training session 232 \t|training accuracy 0.9888 \t|test accuracy 0.980892\n",
      "training session 233 \t|training accuracy 0.9824 \t|test accuracy 0.978769\n",
      "training session 234 \t|training accuracy 0.9808 \t|test accuracy 0.980892\n",
      "training session 235 \t|training accuracy 0.9928 \t|test accuracy 0.980892\n",
      "training session 236 \t|training accuracy 0.9856 \t|test accuracy 0.980892\n",
      "training session 237 \t|training accuracy 0.9808 \t|test accuracy 0.980892\n",
      "training session 238 \t|training accuracy 0.984 \t|test accuracy 0.976645\n",
      "training session 239 \t|training accuracy 0.9816 \t|test accuracy 0.976645\n",
      "training session 240 \t|training accuracy 0.9848 \t|test accuracy 0.976645\n",
      "training session 241 \t|training accuracy 0.9816 \t|test accuracy 0.980892\n",
      "training session 242 \t|training accuracy 0.9816 \t|test accuracy 0.976645\n",
      "training session 243 \t|training accuracy 0.9872 \t|test accuracy 0.976645\n",
      "training session 244 \t|training accuracy 0.9912 \t|test accuracy 0.976645\n",
      "training session 245 \t|training accuracy 0.9872 \t|test accuracy 0.976645\n",
      "training session 246 \t|training accuracy 0.984 \t|test accuracy 0.974522\n",
      "training session 247 \t|training accuracy 0.9896 \t|test accuracy 0.970276\n"
     ]
    },
    {
     "ename": "KeyboardInterrupt",
     "evalue": "",
     "output_type": "error",
     "traceback": [
      "\u001b[0;31m---------------------------------------------------------------------------\u001b[0m",
      "\u001b[0;31mKeyboardInterrupt\u001b[0m                         Traceback (most recent call last)",
      "\u001b[0;32m<ipython-input-74-8a37221cd89e>\u001b[0m in \u001b[0;36m<module>\u001b[0;34m()\u001b[0m\n\u001b[1;32m     18\u001b[0m         \u001b[0;32melse\u001b[0m\u001b[0;34m:\u001b[0m\u001b[0;34m\u001b[0m\u001b[0m\n\u001b[1;32m     19\u001b[0m             \u001b[0mfeed_dict\u001b[0m\u001b[0;34m=\u001b[0m\u001b[0;34m{\u001b[0m\u001b[0mx\u001b[0m\u001b[0;34m:\u001b[0m \u001b[0mstrainX\u001b[0m\u001b[0;34m,\u001b[0m \u001b[0my_\u001b[0m\u001b[0;34m:\u001b[0m \u001b[0mstrainY\u001b[0m\u001b[0;34m,\u001b[0m \u001b[0mkeep_prob\u001b[0m\u001b[0;34m:\u001b[0m \u001b[0;36m.5\u001b[0m\u001b[0;34m}\u001b[0m\u001b[0;34m\u001b[0m\u001b[0m\n\u001b[0;32m---> 20\u001b[0;31m         \u001b[0mexample_data\u001b[0m\u001b[0;34m,\u001b[0m \u001b[0mtrain_acc\u001b[0m \u001b[0;34m=\u001b[0m \u001b[0msess\u001b[0m\u001b[0;34m.\u001b[0m\u001b[0mrun\u001b[0m\u001b[0;34m(\u001b[0m\u001b[0;34m[\u001b[0m\u001b[0mtrain_step\u001b[0m\u001b[0;34m,\u001b[0m \u001b[0maccuracy\u001b[0m\u001b[0;34m]\u001b[0m\u001b[0;34m,\u001b[0m \u001b[0mfeed_dict\u001b[0m\u001b[0;34m)\u001b[0m\u001b[0;34m\u001b[0m\u001b[0m\n\u001b[0m\u001b[1;32m     21\u001b[0m         test_acc = accuracy.eval(feed_dict={\n\u001b[1;32m     22\u001b[0m                 x:stestX, y_: stestY, keep_prob: 1})\n",
      "\u001b[0;32m/Users/arshzahed/anaconda/lib/python3.6/site-packages/tensorflow/python/client/session.py\u001b[0m in \u001b[0;36mrun\u001b[0;34m(self, fetches, feed_dict, options, run_metadata)\u001b[0m\n\u001b[1;32m    765\u001b[0m     \u001b[0;32mtry\u001b[0m\u001b[0;34m:\u001b[0m\u001b[0;34m\u001b[0m\u001b[0m\n\u001b[1;32m    766\u001b[0m       result = self._run(None, fetches, feed_dict, options_ptr,\n\u001b[0;32m--> 767\u001b[0;31m                          run_metadata_ptr)\n\u001b[0m\u001b[1;32m    768\u001b[0m       \u001b[0;32mif\u001b[0m \u001b[0mrun_metadata\u001b[0m\u001b[0;34m:\u001b[0m\u001b[0;34m\u001b[0m\u001b[0m\n\u001b[1;32m    769\u001b[0m         \u001b[0mproto_data\u001b[0m \u001b[0;34m=\u001b[0m \u001b[0mtf_session\u001b[0m\u001b[0;34m.\u001b[0m\u001b[0mTF_GetBuffer\u001b[0m\u001b[0;34m(\u001b[0m\u001b[0mrun_metadata_ptr\u001b[0m\u001b[0;34m)\u001b[0m\u001b[0;34m\u001b[0m\u001b[0m\n",
      "\u001b[0;32m/Users/arshzahed/anaconda/lib/python3.6/site-packages/tensorflow/python/client/session.py\u001b[0m in \u001b[0;36m_run\u001b[0;34m(self, handle, fetches, feed_dict, options, run_metadata)\u001b[0m\n\u001b[1;32m    963\u001b[0m     \u001b[0;32mif\u001b[0m \u001b[0mfinal_fetches\u001b[0m \u001b[0;32mor\u001b[0m \u001b[0mfinal_targets\u001b[0m\u001b[0;34m:\u001b[0m\u001b[0;34m\u001b[0m\u001b[0m\n\u001b[1;32m    964\u001b[0m       results = self._do_run(handle, final_targets, final_fetches,\n\u001b[0;32m--> 965\u001b[0;31m                              feed_dict_string, options, run_metadata)\n\u001b[0m\u001b[1;32m    966\u001b[0m     \u001b[0;32melse\u001b[0m\u001b[0;34m:\u001b[0m\u001b[0;34m\u001b[0m\u001b[0m\n\u001b[1;32m    967\u001b[0m       \u001b[0mresults\u001b[0m \u001b[0;34m=\u001b[0m \u001b[0;34m[\u001b[0m\u001b[0;34m]\u001b[0m\u001b[0;34m\u001b[0m\u001b[0m\n",
      "\u001b[0;32m/Users/arshzahed/anaconda/lib/python3.6/site-packages/tensorflow/python/client/session.py\u001b[0m in \u001b[0;36m_do_run\u001b[0;34m(self, handle, target_list, fetch_list, feed_dict, options, run_metadata)\u001b[0m\n\u001b[1;32m   1013\u001b[0m     \u001b[0;32mif\u001b[0m \u001b[0mhandle\u001b[0m \u001b[0;32mis\u001b[0m \u001b[0;32mNone\u001b[0m\u001b[0;34m:\u001b[0m\u001b[0;34m\u001b[0m\u001b[0m\n\u001b[1;32m   1014\u001b[0m       return self._do_call(_run_fn, self._session, feed_dict, fetch_list,\n\u001b[0;32m-> 1015\u001b[0;31m                            target_list, options, run_metadata)\n\u001b[0m\u001b[1;32m   1016\u001b[0m     \u001b[0;32melse\u001b[0m\u001b[0;34m:\u001b[0m\u001b[0;34m\u001b[0m\u001b[0m\n\u001b[1;32m   1017\u001b[0m       return self._do_call(_prun_fn, self._session, handle, feed_dict,\n",
      "\u001b[0;32m/Users/arshzahed/anaconda/lib/python3.6/site-packages/tensorflow/python/client/session.py\u001b[0m in \u001b[0;36m_do_call\u001b[0;34m(self, fn, *args)\u001b[0m\n\u001b[1;32m   1020\u001b[0m   \u001b[0;32mdef\u001b[0m \u001b[0m_do_call\u001b[0m\u001b[0;34m(\u001b[0m\u001b[0mself\u001b[0m\u001b[0;34m,\u001b[0m \u001b[0mfn\u001b[0m\u001b[0;34m,\u001b[0m \u001b[0;34m*\u001b[0m\u001b[0margs\u001b[0m\u001b[0;34m)\u001b[0m\u001b[0;34m:\u001b[0m\u001b[0;34m\u001b[0m\u001b[0m\n\u001b[1;32m   1021\u001b[0m     \u001b[0;32mtry\u001b[0m\u001b[0;34m:\u001b[0m\u001b[0;34m\u001b[0m\u001b[0m\n\u001b[0;32m-> 1022\u001b[0;31m       \u001b[0;32mreturn\u001b[0m \u001b[0mfn\u001b[0m\u001b[0;34m(\u001b[0m\u001b[0;34m*\u001b[0m\u001b[0margs\u001b[0m\u001b[0;34m)\u001b[0m\u001b[0;34m\u001b[0m\u001b[0m\n\u001b[0m\u001b[1;32m   1023\u001b[0m     \u001b[0;32mexcept\u001b[0m \u001b[0merrors\u001b[0m\u001b[0;34m.\u001b[0m\u001b[0mOpError\u001b[0m \u001b[0;32mas\u001b[0m \u001b[0me\u001b[0m\u001b[0;34m:\u001b[0m\u001b[0;34m\u001b[0m\u001b[0m\n\u001b[1;32m   1024\u001b[0m       \u001b[0mmessage\u001b[0m \u001b[0;34m=\u001b[0m \u001b[0mcompat\u001b[0m\u001b[0;34m.\u001b[0m\u001b[0mas_text\u001b[0m\u001b[0;34m(\u001b[0m\u001b[0me\u001b[0m\u001b[0;34m.\u001b[0m\u001b[0mmessage\u001b[0m\u001b[0;34m)\u001b[0m\u001b[0;34m\u001b[0m\u001b[0m\n",
      "\u001b[0;32m/Users/arshzahed/anaconda/lib/python3.6/site-packages/tensorflow/python/client/session.py\u001b[0m in \u001b[0;36m_run_fn\u001b[0;34m(session, feed_dict, fetch_list, target_list, options, run_metadata)\u001b[0m\n\u001b[1;32m   1002\u001b[0m         return tf_session.TF_Run(session, options,\n\u001b[1;32m   1003\u001b[0m                                  \u001b[0mfeed_dict\u001b[0m\u001b[0;34m,\u001b[0m \u001b[0mfetch_list\u001b[0m\u001b[0;34m,\u001b[0m \u001b[0mtarget_list\u001b[0m\u001b[0;34m,\u001b[0m\u001b[0;34m\u001b[0m\u001b[0m\n\u001b[0;32m-> 1004\u001b[0;31m                                  status, run_metadata)\n\u001b[0m\u001b[1;32m   1005\u001b[0m \u001b[0;34m\u001b[0m\u001b[0m\n\u001b[1;32m   1006\u001b[0m     \u001b[0;32mdef\u001b[0m \u001b[0m_prun_fn\u001b[0m\u001b[0;34m(\u001b[0m\u001b[0msession\u001b[0m\u001b[0;34m,\u001b[0m \u001b[0mhandle\u001b[0m\u001b[0;34m,\u001b[0m \u001b[0mfeed_dict\u001b[0m\u001b[0;34m,\u001b[0m \u001b[0mfetch_list\u001b[0m\u001b[0;34m)\u001b[0m\u001b[0;34m:\u001b[0m\u001b[0;34m\u001b[0m\u001b[0m\n",
      "\u001b[0;31mKeyboardInterrupt\u001b[0m: "
     ]
    }
   ],
   "source": [
    "sess = tf.InteractiveSession()\n",
    "\n",
    "saver = tf.train.Saver()\n",
    "correct_prediction = tf.equal(tf.argmax(y3,1), tf.argmax(y_,1))\n",
    "accuracy = tf.reduce_mean(tf.cast(correct_prediction, tf.float32))\n",
    "tf.global_variables_initializer().run()\n",
    "saver = tf.train.Saver()\n",
    "\n",
    "count = 0\n",
    "max_train_acc = .926206\n",
    "max_test_acc = .980658\n",
    "test_acc = .5\n",
    "train_acc = .5\n",
    "while count < num_it:\n",
    "    try:\n",
    "        if (train_acc > test_acc+.025):\n",
    "            feed_dict={x: stestX, y_: stestY, keep_prob: .5}\n",
    "        else:\n",
    "            feed_dict={x: strainX, y_: strainY, keep_prob: .5}\n",
    "        example_data, train_acc = sess.run([train_step, accuracy], feed_dict)\n",
    "        test_acc = accuracy.eval(feed_dict={\n",
    "                x:stestX, y_: stestY, keep_prob: 1})\n",
    "#         if test_acc > max_test_acc:\n",
    "#             max_test_acc = test_acc\n",
    "#             save_path = saver.save(sess, \"/tmp/model3.ckpt\")\n",
    "#             print(\"Model saved in file: %s\" % save_path)\n",
    "    except tf.errors.OutOfRangeError:\n",
    "        break\n",
    "        \n",
    "    print('training session', count,'\\t|training accuracy', train_acc, '\\t|test accuracy', test_acc)\n",
    "    count+=1"
   ]
  },
  {
   "cell_type": "code",
   "execution_count": 153,
   "metadata": {
    "collapsed": false
   },
   "outputs": [
    {
     "name": "stdout",
     "output_type": "stream",
     "text": [
      "Model restored.\n"
     ]
    },
    {
     "ename": "FailedPreconditionError",
     "evalue": "Attempting to use uninitialized value Variable_101\n\t [[Node: Variable_101/read = Identity[T=DT_FLOAT, _class=[\"loc:@Variable_101\"], _device=\"/job:localhost/replica:0/task:0/cpu:0\"](Variable_101)]]\n\nCaused by op 'Variable_101/read', defined at:\n  File \"/Users/arshzahed/anaconda/lib/python3.6/runpy.py\", line 193, in _run_module_as_main\n    \"__main__\", mod_spec)\n  File \"/Users/arshzahed/anaconda/lib/python3.6/runpy.py\", line 85, in _run_code\n    exec(code, run_globals)\n  File \"/Users/arshzahed/anaconda/lib/python3.6/site-packages/ipykernel/__main__.py\", line 3, in <module>\n    app.launch_new_instance()\n  File \"/Users/arshzahed/anaconda/lib/python3.6/site-packages/traitlets/config/application.py\", line 658, in launch_instance\n    app.start()\n  File \"/Users/arshzahed/anaconda/lib/python3.6/site-packages/ipykernel/kernelapp.py\", line 474, in start\n    ioloop.IOLoop.instance().start()\n  File \"/Users/arshzahed/anaconda/lib/python3.6/site-packages/zmq/eventloop/ioloop.py\", line 177, in start\n    super(ZMQIOLoop, self).start()\n  File \"/Users/arshzahed/anaconda/lib/python3.6/site-packages/tornado/ioloop.py\", line 887, in start\n    handler_func(fd_obj, events)\n  File \"/Users/arshzahed/anaconda/lib/python3.6/site-packages/tornado/stack_context.py\", line 275, in null_wrapper\n    return fn(*args, **kwargs)\n  File \"/Users/arshzahed/anaconda/lib/python3.6/site-packages/zmq/eventloop/zmqstream.py\", line 440, in _handle_events\n    self._handle_recv()\n  File \"/Users/arshzahed/anaconda/lib/python3.6/site-packages/zmq/eventloop/zmqstream.py\", line 472, in _handle_recv\n    self._run_callback(callback, msg)\n  File \"/Users/arshzahed/anaconda/lib/python3.6/site-packages/zmq/eventloop/zmqstream.py\", line 414, in _run_callback\n    callback(*args, **kwargs)\n  File \"/Users/arshzahed/anaconda/lib/python3.6/site-packages/tornado/stack_context.py\", line 275, in null_wrapper\n    return fn(*args, **kwargs)\n  File \"/Users/arshzahed/anaconda/lib/python3.6/site-packages/ipykernel/kernelbase.py\", line 276, in dispatcher\n    return self.dispatch_shell(stream, msg)\n  File \"/Users/arshzahed/anaconda/lib/python3.6/site-packages/ipykernel/kernelbase.py\", line 228, in dispatch_shell\n    handler(stream, idents, msg)\n  File \"/Users/arshzahed/anaconda/lib/python3.6/site-packages/ipykernel/kernelbase.py\", line 390, in execute_request\n    user_expressions, allow_stdin)\n  File \"/Users/arshzahed/anaconda/lib/python3.6/site-packages/ipykernel/ipkernel.py\", line 196, in do_execute\n    res = shell.run_cell(code, store_history=store_history, silent=silent)\n  File \"/Users/arshzahed/anaconda/lib/python3.6/site-packages/ipykernel/zmqshell.py\", line 501, in run_cell\n    return super(ZMQInteractiveShell, self).run_cell(*args, **kwargs)\n  File \"/Users/arshzahed/anaconda/lib/python3.6/site-packages/IPython/core/interactiveshell.py\", line 2717, in run_cell\n    interactivity=interactivity, compiler=compiler, result=result)\n  File \"/Users/arshzahed/anaconda/lib/python3.6/site-packages/IPython/core/interactiveshell.py\", line 2821, in run_ast_nodes\n    if self.run_code(code, result):\n  File \"/Users/arshzahed/anaconda/lib/python3.6/site-packages/IPython/core/interactiveshell.py\", line 2881, in run_code\n    exec(code_obj, self.user_global_ns, self.user_ns)\n  File \"<ipython-input-148-1b29a1e603f6>\", line 18, in <module>\n    b3 = tf.Variable(tf.zeros([num_genre]))\n  File \"/Users/arshzahed/anaconda/lib/python3.6/site-packages/tensorflow/python/ops/variables.py\", line 226, in __init__\n    expected_shape=expected_shape)\n  File \"/Users/arshzahed/anaconda/lib/python3.6/site-packages/tensorflow/python/ops/variables.py\", line 344, in _init_from_args\n    self._snapshot = array_ops.identity(self._variable, name=\"read\")\n  File \"/Users/arshzahed/anaconda/lib/python3.6/site-packages/tensorflow/python/ops/gen_array_ops.py\", line 1490, in identity\n    result = _op_def_lib.apply_op(\"Identity\", input=input, name=name)\n  File \"/Users/arshzahed/anaconda/lib/python3.6/site-packages/tensorflow/python/framework/op_def_library.py\", line 763, in apply_op\n    op_def=op_def)\n  File \"/Users/arshzahed/anaconda/lib/python3.6/site-packages/tensorflow/python/framework/ops.py\", line 2395, in create_op\n    original_op=self._default_original_op, op_def=op_def)\n  File \"/Users/arshzahed/anaconda/lib/python3.6/site-packages/tensorflow/python/framework/ops.py\", line 1264, in __init__\n    self._traceback = _extract_stack()\n\nFailedPreconditionError (see above for traceback): Attempting to use uninitialized value Variable_101\n\t [[Node: Variable_101/read = Identity[T=DT_FLOAT, _class=[\"loc:@Variable_101\"], _device=\"/job:localhost/replica:0/task:0/cpu:0\"](Variable_101)]]\n",
     "output_type": "error",
     "traceback": [
      "\u001b[0;31m---------------------------------------------------------------------------\u001b[0m",
      "\u001b[0;31mFailedPreconditionError\u001b[0m                   Traceback (most recent call last)",
      "\u001b[0;32m/Users/arshzahed/anaconda/lib/python3.6/site-packages/tensorflow/python/client/session.py\u001b[0m in \u001b[0;36m_do_call\u001b[0;34m(self, fn, *args)\u001b[0m\n\u001b[1;32m   1021\u001b[0m     \u001b[0;32mtry\u001b[0m\u001b[0;34m:\u001b[0m\u001b[0;34m\u001b[0m\u001b[0m\n\u001b[0;32m-> 1022\u001b[0;31m       \u001b[0;32mreturn\u001b[0m \u001b[0mfn\u001b[0m\u001b[0;34m(\u001b[0m\u001b[0;34m*\u001b[0m\u001b[0margs\u001b[0m\u001b[0;34m)\u001b[0m\u001b[0;34m\u001b[0m\u001b[0m\n\u001b[0m\u001b[1;32m   1023\u001b[0m     \u001b[0;32mexcept\u001b[0m \u001b[0merrors\u001b[0m\u001b[0;34m.\u001b[0m\u001b[0mOpError\u001b[0m \u001b[0;32mas\u001b[0m \u001b[0me\u001b[0m\u001b[0;34m:\u001b[0m\u001b[0;34m\u001b[0m\u001b[0m\n",
      "\u001b[0;32m/Users/arshzahed/anaconda/lib/python3.6/site-packages/tensorflow/python/client/session.py\u001b[0m in \u001b[0;36m_run_fn\u001b[0;34m(session, feed_dict, fetch_list, target_list, options, run_metadata)\u001b[0m\n\u001b[1;32m   1003\u001b[0m                                  \u001b[0mfeed_dict\u001b[0m\u001b[0;34m,\u001b[0m \u001b[0mfetch_list\u001b[0m\u001b[0;34m,\u001b[0m \u001b[0mtarget_list\u001b[0m\u001b[0;34m,\u001b[0m\u001b[0;34m\u001b[0m\u001b[0m\n\u001b[0;32m-> 1004\u001b[0;31m                                  status, run_metadata)\n\u001b[0m\u001b[1;32m   1005\u001b[0m \u001b[0;34m\u001b[0m\u001b[0m\n",
      "\u001b[0;32m/Users/arshzahed/anaconda/lib/python3.6/contextlib.py\u001b[0m in \u001b[0;36m__exit__\u001b[0;34m(self, type, value, traceback)\u001b[0m\n\u001b[1;32m     88\u001b[0m             \u001b[0;32mtry\u001b[0m\u001b[0;34m:\u001b[0m\u001b[0;34m\u001b[0m\u001b[0m\n\u001b[0;32m---> 89\u001b[0;31m                 \u001b[0mnext\u001b[0m\u001b[0;34m(\u001b[0m\u001b[0mself\u001b[0m\u001b[0;34m.\u001b[0m\u001b[0mgen\u001b[0m\u001b[0;34m)\u001b[0m\u001b[0;34m\u001b[0m\u001b[0m\n\u001b[0m\u001b[1;32m     90\u001b[0m             \u001b[0;32mexcept\u001b[0m \u001b[0mStopIteration\u001b[0m\u001b[0;34m:\u001b[0m\u001b[0;34m\u001b[0m\u001b[0m\n",
      "\u001b[0;32m/Users/arshzahed/anaconda/lib/python3.6/site-packages/tensorflow/python/framework/errors_impl.py\u001b[0m in \u001b[0;36mraise_exception_on_not_ok_status\u001b[0;34m()\u001b[0m\n\u001b[1;32m    468\u001b[0m           \u001b[0mcompat\u001b[0m\u001b[0;34m.\u001b[0m\u001b[0mas_text\u001b[0m\u001b[0;34m(\u001b[0m\u001b[0mpywrap_tensorflow\u001b[0m\u001b[0;34m.\u001b[0m\u001b[0mTF_Message\u001b[0m\u001b[0;34m(\u001b[0m\u001b[0mstatus\u001b[0m\u001b[0;34m)\u001b[0m\u001b[0;34m)\u001b[0m\u001b[0;34m,\u001b[0m\u001b[0;34m\u001b[0m\u001b[0m\n\u001b[0;32m--> 469\u001b[0;31m           pywrap_tensorflow.TF_GetCode(status))\n\u001b[0m\u001b[1;32m    470\u001b[0m   \u001b[0;32mfinally\u001b[0m\u001b[0;34m:\u001b[0m\u001b[0;34m\u001b[0m\u001b[0m\n",
      "\u001b[0;31mFailedPreconditionError\u001b[0m: Attempting to use uninitialized value Variable_101\n\t [[Node: Variable_101/read = Identity[T=DT_FLOAT, _class=[\"loc:@Variable_101\"], _device=\"/job:localhost/replica:0/task:0/cpu:0\"](Variable_101)]]",
      "\nDuring handling of the above exception, another exception occurred:\n",
      "\u001b[0;31mFailedPreconditionError\u001b[0m                   Traceback (most recent call last)",
      "\u001b[0;32m<ipython-input-153-3efe128ede63>\u001b[0m in \u001b[0;36m<module>\u001b[0;34m()\u001b[0m\n\u001b[1;32m      6\u001b[0m     \u001b[0mcorrect_prediction\u001b[0m \u001b[0;34m=\u001b[0m \u001b[0mtf\u001b[0m\u001b[0;34m.\u001b[0m\u001b[0mequal\u001b[0m\u001b[0;34m(\u001b[0m\u001b[0mtf\u001b[0m\u001b[0;34m.\u001b[0m\u001b[0margmax\u001b[0m\u001b[0;34m(\u001b[0m\u001b[0my3\u001b[0m\u001b[0;34m,\u001b[0m \u001b[0;36m1\u001b[0m\u001b[0;34m)\u001b[0m\u001b[0;34m,\u001b[0m \u001b[0mtf\u001b[0m\u001b[0;34m.\u001b[0m\u001b[0margmax\u001b[0m\u001b[0;34m(\u001b[0m\u001b[0my_\u001b[0m\u001b[0;34m,\u001b[0m \u001b[0;36m1\u001b[0m\u001b[0;34m)\u001b[0m\u001b[0;34m)\u001b[0m\u001b[0;34m\u001b[0m\u001b[0m\n\u001b[1;32m      7\u001b[0m     \u001b[0maccuracy\u001b[0m \u001b[0;34m=\u001b[0m \u001b[0mtf\u001b[0m\u001b[0;34m.\u001b[0m\u001b[0mreduce_mean\u001b[0m\u001b[0;34m(\u001b[0m\u001b[0mtf\u001b[0m\u001b[0;34m.\u001b[0m\u001b[0mcast\u001b[0m\u001b[0;34m(\u001b[0m\u001b[0mcorrect_prediction\u001b[0m\u001b[0;34m,\u001b[0m \u001b[0mtf\u001b[0m\u001b[0;34m.\u001b[0m\u001b[0mfloat32\u001b[0m\u001b[0;34m)\u001b[0m\u001b[0;34m)\u001b[0m\u001b[0;34m\u001b[0m\u001b[0m\n\u001b[0;32m----> 8\u001b[0;31m     \u001b[0mprint\u001b[0m\u001b[0;34m(\u001b[0m\u001b[0;34m'training accuracy'\u001b[0m\u001b[0;34m,\u001b[0m \u001b[0msess\u001b[0m\u001b[0;34m.\u001b[0m\u001b[0mrun\u001b[0m\u001b[0;34m(\u001b[0m\u001b[0maccuracy\u001b[0m\u001b[0;34m,\u001b[0m \u001b[0mfeed_dict\u001b[0m\u001b[0;34m=\u001b[0m\u001b[0;34m{\u001b[0m\u001b[0mx\u001b[0m\u001b[0;34m:\u001b[0m \u001b[0mtrainX\u001b[0m \u001b[0;34m,\u001b[0m \u001b[0my_\u001b[0m\u001b[0;34m:\u001b[0m \u001b[0mtrainY\u001b[0m\u001b[0;34m,\u001b[0m \u001b[0mkeep_prob\u001b[0m\u001b[0;34m:\u001b[0m \u001b[0;36m1.\u001b[0m \u001b[0;34m}\u001b[0m\u001b[0;34m)\u001b[0m\u001b[0;34m)\u001b[0m\u001b[0;34m\u001b[0m\u001b[0m\n\u001b[0m\u001b[1;32m      9\u001b[0m     \u001b[0mprint\u001b[0m\u001b[0;34m(\u001b[0m\u001b[0;34m'test accuracy'\u001b[0m\u001b[0;34m,\u001b[0m \u001b[0msess\u001b[0m\u001b[0;34m.\u001b[0m\u001b[0mrun\u001b[0m\u001b[0;34m(\u001b[0m\u001b[0maccuracy\u001b[0m\u001b[0;34m,\u001b[0m \u001b[0mfeed_dict\u001b[0m\u001b[0;34m=\u001b[0m\u001b[0;34m{\u001b[0m\u001b[0mx\u001b[0m\u001b[0;34m:\u001b[0m \u001b[0mtestX\u001b[0m \u001b[0;34m,\u001b[0m \u001b[0my_\u001b[0m\u001b[0;34m:\u001b[0m \u001b[0mtestY\u001b[0m\u001b[0;34m,\u001b[0m \u001b[0mkeep_prob\u001b[0m\u001b[0;34m:\u001b[0m \u001b[0;36m1.\u001b[0m \u001b[0;34m}\u001b[0m\u001b[0;34m)\u001b[0m\u001b[0;34m)\u001b[0m\u001b[0;34m\u001b[0m\u001b[0m\n\u001b[1;32m     10\u001b[0m     \u001b[0mprint\u001b[0m\u001b[0;34m(\u001b[0m\u001b[0;34m'all accuracy'\u001b[0m\u001b[0;34m,\u001b[0m \u001b[0msess\u001b[0m\u001b[0;34m.\u001b[0m\u001b[0mrun\u001b[0m\u001b[0;34m(\u001b[0m\u001b[0maccuracy\u001b[0m\u001b[0;34m,\u001b[0m \u001b[0mfeed_dict\u001b[0m\u001b[0;34m=\u001b[0m\u001b[0;34m{\u001b[0m\u001b[0mx\u001b[0m\u001b[0;34m:\u001b[0m \u001b[0mallX\u001b[0m \u001b[0;34m,\u001b[0m \u001b[0my_\u001b[0m\u001b[0;34m:\u001b[0m \u001b[0mallY\u001b[0m\u001b[0;34m,\u001b[0m \u001b[0mkeep_prob\u001b[0m\u001b[0;34m:\u001b[0m \u001b[0;36m1.\u001b[0m \u001b[0;34m}\u001b[0m\u001b[0;34m)\u001b[0m\u001b[0;34m)\u001b[0m\u001b[0;34m\u001b[0m\u001b[0m\n",
      "\u001b[0;32m/Users/arshzahed/anaconda/lib/python3.6/site-packages/tensorflow/python/client/session.py\u001b[0m in \u001b[0;36mrun\u001b[0;34m(self, fetches, feed_dict, options, run_metadata)\u001b[0m\n\u001b[1;32m    765\u001b[0m     \u001b[0;32mtry\u001b[0m\u001b[0;34m:\u001b[0m\u001b[0;34m\u001b[0m\u001b[0m\n\u001b[1;32m    766\u001b[0m       result = self._run(None, fetches, feed_dict, options_ptr,\n\u001b[0;32m--> 767\u001b[0;31m                          run_metadata_ptr)\n\u001b[0m\u001b[1;32m    768\u001b[0m       \u001b[0;32mif\u001b[0m \u001b[0mrun_metadata\u001b[0m\u001b[0;34m:\u001b[0m\u001b[0;34m\u001b[0m\u001b[0m\n\u001b[1;32m    769\u001b[0m         \u001b[0mproto_data\u001b[0m \u001b[0;34m=\u001b[0m \u001b[0mtf_session\u001b[0m\u001b[0;34m.\u001b[0m\u001b[0mTF_GetBuffer\u001b[0m\u001b[0;34m(\u001b[0m\u001b[0mrun_metadata_ptr\u001b[0m\u001b[0;34m)\u001b[0m\u001b[0;34m\u001b[0m\u001b[0m\n",
      "\u001b[0;32m/Users/arshzahed/anaconda/lib/python3.6/site-packages/tensorflow/python/client/session.py\u001b[0m in \u001b[0;36m_run\u001b[0;34m(self, handle, fetches, feed_dict, options, run_metadata)\u001b[0m\n\u001b[1;32m    963\u001b[0m     \u001b[0;32mif\u001b[0m \u001b[0mfinal_fetches\u001b[0m \u001b[0;32mor\u001b[0m \u001b[0mfinal_targets\u001b[0m\u001b[0;34m:\u001b[0m\u001b[0;34m\u001b[0m\u001b[0m\n\u001b[1;32m    964\u001b[0m       results = self._do_run(handle, final_targets, final_fetches,\n\u001b[0;32m--> 965\u001b[0;31m                              feed_dict_string, options, run_metadata)\n\u001b[0m\u001b[1;32m    966\u001b[0m     \u001b[0;32melse\u001b[0m\u001b[0;34m:\u001b[0m\u001b[0;34m\u001b[0m\u001b[0m\n\u001b[1;32m    967\u001b[0m       \u001b[0mresults\u001b[0m \u001b[0;34m=\u001b[0m \u001b[0;34m[\u001b[0m\u001b[0;34m]\u001b[0m\u001b[0;34m\u001b[0m\u001b[0m\n",
      "\u001b[0;32m/Users/arshzahed/anaconda/lib/python3.6/site-packages/tensorflow/python/client/session.py\u001b[0m in \u001b[0;36m_do_run\u001b[0;34m(self, handle, target_list, fetch_list, feed_dict, options, run_metadata)\u001b[0m\n\u001b[1;32m   1013\u001b[0m     \u001b[0;32mif\u001b[0m \u001b[0mhandle\u001b[0m \u001b[0;32mis\u001b[0m \u001b[0;32mNone\u001b[0m\u001b[0;34m:\u001b[0m\u001b[0;34m\u001b[0m\u001b[0m\n\u001b[1;32m   1014\u001b[0m       return self._do_call(_run_fn, self._session, feed_dict, fetch_list,\n\u001b[0;32m-> 1015\u001b[0;31m                            target_list, options, run_metadata)\n\u001b[0m\u001b[1;32m   1016\u001b[0m     \u001b[0;32melse\u001b[0m\u001b[0;34m:\u001b[0m\u001b[0;34m\u001b[0m\u001b[0m\n\u001b[1;32m   1017\u001b[0m       return self._do_call(_prun_fn, self._session, handle, feed_dict,\n",
      "\u001b[0;32m/Users/arshzahed/anaconda/lib/python3.6/site-packages/tensorflow/python/client/session.py\u001b[0m in \u001b[0;36m_do_call\u001b[0;34m(self, fn, *args)\u001b[0m\n\u001b[1;32m   1033\u001b[0m         \u001b[0;32mexcept\u001b[0m \u001b[0mKeyError\u001b[0m\u001b[0;34m:\u001b[0m\u001b[0;34m\u001b[0m\u001b[0m\n\u001b[1;32m   1034\u001b[0m           \u001b[0;32mpass\u001b[0m\u001b[0;34m\u001b[0m\u001b[0m\n\u001b[0;32m-> 1035\u001b[0;31m       \u001b[0;32mraise\u001b[0m \u001b[0mtype\u001b[0m\u001b[0;34m(\u001b[0m\u001b[0me\u001b[0m\u001b[0;34m)\u001b[0m\u001b[0;34m(\u001b[0m\u001b[0mnode_def\u001b[0m\u001b[0;34m,\u001b[0m \u001b[0mop\u001b[0m\u001b[0;34m,\u001b[0m \u001b[0mmessage\u001b[0m\u001b[0;34m)\u001b[0m\u001b[0;34m\u001b[0m\u001b[0m\n\u001b[0m\u001b[1;32m   1036\u001b[0m \u001b[0;34m\u001b[0m\u001b[0m\n\u001b[1;32m   1037\u001b[0m   \u001b[0;32mdef\u001b[0m \u001b[0m_extend_graph\u001b[0m\u001b[0;34m(\u001b[0m\u001b[0mself\u001b[0m\u001b[0;34m)\u001b[0m\u001b[0;34m:\u001b[0m\u001b[0;34m\u001b[0m\u001b[0m\n",
      "\u001b[0;31mFailedPreconditionError\u001b[0m: Attempting to use uninitialized value Variable_101\n\t [[Node: Variable_101/read = Identity[T=DT_FLOAT, _class=[\"loc:@Variable_101\"], _device=\"/job:localhost/replica:0/task:0/cpu:0\"](Variable_101)]]\n\nCaused by op 'Variable_101/read', defined at:\n  File \"/Users/arshzahed/anaconda/lib/python3.6/runpy.py\", line 193, in _run_module_as_main\n    \"__main__\", mod_spec)\n  File \"/Users/arshzahed/anaconda/lib/python3.6/runpy.py\", line 85, in _run_code\n    exec(code, run_globals)\n  File \"/Users/arshzahed/anaconda/lib/python3.6/site-packages/ipykernel/__main__.py\", line 3, in <module>\n    app.launch_new_instance()\n  File \"/Users/arshzahed/anaconda/lib/python3.6/site-packages/traitlets/config/application.py\", line 658, in launch_instance\n    app.start()\n  File \"/Users/arshzahed/anaconda/lib/python3.6/site-packages/ipykernel/kernelapp.py\", line 474, in start\n    ioloop.IOLoop.instance().start()\n  File \"/Users/arshzahed/anaconda/lib/python3.6/site-packages/zmq/eventloop/ioloop.py\", line 177, in start\n    super(ZMQIOLoop, self).start()\n  File \"/Users/arshzahed/anaconda/lib/python3.6/site-packages/tornado/ioloop.py\", line 887, in start\n    handler_func(fd_obj, events)\n  File \"/Users/arshzahed/anaconda/lib/python3.6/site-packages/tornado/stack_context.py\", line 275, in null_wrapper\n    return fn(*args, **kwargs)\n  File \"/Users/arshzahed/anaconda/lib/python3.6/site-packages/zmq/eventloop/zmqstream.py\", line 440, in _handle_events\n    self._handle_recv()\n  File \"/Users/arshzahed/anaconda/lib/python3.6/site-packages/zmq/eventloop/zmqstream.py\", line 472, in _handle_recv\n    self._run_callback(callback, msg)\n  File \"/Users/arshzahed/anaconda/lib/python3.6/site-packages/zmq/eventloop/zmqstream.py\", line 414, in _run_callback\n    callback(*args, **kwargs)\n  File \"/Users/arshzahed/anaconda/lib/python3.6/site-packages/tornado/stack_context.py\", line 275, in null_wrapper\n    return fn(*args, **kwargs)\n  File \"/Users/arshzahed/anaconda/lib/python3.6/site-packages/ipykernel/kernelbase.py\", line 276, in dispatcher\n    return self.dispatch_shell(stream, msg)\n  File \"/Users/arshzahed/anaconda/lib/python3.6/site-packages/ipykernel/kernelbase.py\", line 228, in dispatch_shell\n    handler(stream, idents, msg)\n  File \"/Users/arshzahed/anaconda/lib/python3.6/site-packages/ipykernel/kernelbase.py\", line 390, in execute_request\n    user_expressions, allow_stdin)\n  File \"/Users/arshzahed/anaconda/lib/python3.6/site-packages/ipykernel/ipkernel.py\", line 196, in do_execute\n    res = shell.run_cell(code, store_history=store_history, silent=silent)\n  File \"/Users/arshzahed/anaconda/lib/python3.6/site-packages/ipykernel/zmqshell.py\", line 501, in run_cell\n    return super(ZMQInteractiveShell, self).run_cell(*args, **kwargs)\n  File \"/Users/arshzahed/anaconda/lib/python3.6/site-packages/IPython/core/interactiveshell.py\", line 2717, in run_cell\n    interactivity=interactivity, compiler=compiler, result=result)\n  File \"/Users/arshzahed/anaconda/lib/python3.6/site-packages/IPython/core/interactiveshell.py\", line 2821, in run_ast_nodes\n    if self.run_code(code, result):\n  File \"/Users/arshzahed/anaconda/lib/python3.6/site-packages/IPython/core/interactiveshell.py\", line 2881, in run_code\n    exec(code_obj, self.user_global_ns, self.user_ns)\n  File \"<ipython-input-148-1b29a1e603f6>\", line 18, in <module>\n    b3 = tf.Variable(tf.zeros([num_genre]))\n  File \"/Users/arshzahed/anaconda/lib/python3.6/site-packages/tensorflow/python/ops/variables.py\", line 226, in __init__\n    expected_shape=expected_shape)\n  File \"/Users/arshzahed/anaconda/lib/python3.6/site-packages/tensorflow/python/ops/variables.py\", line 344, in _init_from_args\n    self._snapshot = array_ops.identity(self._variable, name=\"read\")\n  File \"/Users/arshzahed/anaconda/lib/python3.6/site-packages/tensorflow/python/ops/gen_array_ops.py\", line 1490, in identity\n    result = _op_def_lib.apply_op(\"Identity\", input=input, name=name)\n  File \"/Users/arshzahed/anaconda/lib/python3.6/site-packages/tensorflow/python/framework/op_def_library.py\", line 763, in apply_op\n    op_def=op_def)\n  File \"/Users/arshzahed/anaconda/lib/python3.6/site-packages/tensorflow/python/framework/ops.py\", line 2395, in create_op\n    original_op=self._default_original_op, op_def=op_def)\n  File \"/Users/arshzahed/anaconda/lib/python3.6/site-packages/tensorflow/python/framework/ops.py\", line 1264, in __init__\n    self._traceback = _extract_stack()\n\nFailedPreconditionError (see above for traceback): Attempting to use uninitialized value Variable_101\n\t [[Node: Variable_101/read = Identity[T=DT_FLOAT, _class=[\"loc:@Variable_101\"], _device=\"/job:localhost/replica:0/task:0/cpu:0\"](Variable_101)]]\n"
     ]
    }
   ],
   "source": [
    "with tf.Session() as sess:\n",
    "    # Restore variables from disk.\n",
    "    saver.restore(sess, \"/tmp/model3.ckpt\")\n",
    "    print(\"Model restored.\")\n",
    "    # Do some work with the model\n",
    "    correct_prediction = tf.equal(tf.argmax(y3, 1), tf.argmax(y_, 1))\n",
    "    accuracy = tf.reduce_mean(tf.cast(correct_prediction, tf.float32))\n",
    "    print('training accuracy', sess.run(accuracy, feed_dict={x: trainX , y_: trainY, keep_prob: 1. }))\n",
    "    print('test accuracy', sess.run(accuracy, feed_dict={x: testX , y_: testY, keep_prob: 1. }))\n",
    "    print('all accuracy', sess.run(accuracy, feed_dict={x: allX , y_: allY, keep_prob: 1. }))"
   ]
  },
  {
   "cell_type": "code",
   "execution_count": 29,
   "metadata": {
    "collapsed": false
   },
   "outputs": [
    {
     "name": "stdout",
     "output_type": "stream",
     "text": [
      "training accuracy 0.964441\n",
      "test accuracy 0.97093\n",
      "all accuracy 0.965718\n"
     ]
    }
   ],
   "source": [
    "correct_prediction = tf.equal(tf.argmax(y3, 1), tf.argmax(y_, 1))\n",
    "accuracy = tf.reduce_mean(tf.cast(correct_prediction, tf.float32))\n",
    "print('training accuracy', sess.run(accuracy, feed_dict={x: trainX , y_: trainY, keep_prob: 1 }))\n",
    "print('test accuracy', sess.run(accuracy, feed_dict={x: testX , y_: testY, keep_prob: 1 }))\n",
    "print('all accuracy', sess.run(accuracy, feed_dict={x: allX , y_: allY, keep_prob: 1 }))"
   ]
  },
  {
   "cell_type": "code",
   "execution_count": 30,
   "metadata": {
    "collapsed": false
   },
   "outputs": [
    {
     "name": "stdout",
     "output_type": "stream",
     "text": [
      "predictions [1 1 1 ..., 1 0 0]\n"
     ]
    }
   ],
   "source": [
    "hCoun = np.array([])\n",
    "hHip = np.array([])\n",
    "prediction=tf.argmax(y3,1)\n",
    "pred_arr = np.array(prediction.eval(feed_dict={x: trainX, keep_prob: 1.}, session=sess))\n",
    "print (\"predictions\", pred_arr)"
   ]
  },
  {
   "cell_type": "code",
   "execution_count": 31,
   "metadata": {
    "collapsed": false
   },
   "outputs": [
    {
     "name": "stdout",
     "output_type": "stream",
     "text": [
      "probabilities [[ 0.01243519  0.98756486]\n",
      " [ 0.01895201  0.98104799]\n",
      " [ 0.01494235  0.98505765]\n",
      " ..., \n",
      " [ 0.00111532  0.99888474]\n",
      " [ 0.67682022  0.32317975]\n",
      " [ 0.99325258  0.00674742]]\n"
     ]
    }
   ],
   "source": [
    "probabilities=y3\n",
    "print (\"probabilities\", probabilities.eval(feed_dict={x: trainX, keep_prob: 1.}, session=sess))"
   ]
  },
  {
   "cell_type": "code",
   "execution_count": 32,
   "metadata": {
    "collapsed": false
   },
   "outputs": [],
   "source": [
    "holdout = Table().read_table('holdout_attributes.csv')\n",
    "holdout_attr = holdout.drop('Id')\n",
    "arr = np.array(holdout_attr.row(0))\n",
    "holdX = np.array(np.array([arr]))\n",
    "for i in range(1, holdout_attr.num_rows):\n",
    "    arr = np.array(holdout_attr.row(i))\n",
    "    holdX = np.vstack((holdX, np.array([arr])))"
   ]
  },
  {
   "cell_type": "code",
   "execution_count": 33,
   "metadata": {
    "collapsed": false
   },
   "outputs": [],
   "source": [
    "def create_competition_submission(predictions, filename='my_submission.csv'):\n",
    "    \"\"\"\n",
    "    Create a submission CSV for the Kaggle competition.\n",
    "    \n",
    "    Inputs:\n",
    "      predictions - list or array of your predictions (Generated as in Question 3.3.1.)\n",
    "    \"\"\"\n",
    "    Table().with_columns('Id', np.arange(len(predictions)), 'Predictions', predictions).to_csv(filename)\n",
    "    print('Created', filename)"
   ]
  },
  {
   "cell_type": "code",
   "execution_count": 34,
   "metadata": {
    "collapsed": false
   },
   "outputs": [
    {
     "name": "stdout",
     "output_type": "stream",
     "text": [
      "['Country' 'Hip-hop' 'Country' 'Country' 'Country' 'Country' 'Hip-hop'\n",
      " 'Hip-hop' 'Hip-hop' 'Hip-hop' 'Hip-hop' 'Country' 'Hip-hop' 'Country'\n",
      " 'Hip-hop' 'Country' 'Country' 'Country' 'Hip-hop' 'Hip-hop' 'Hip-hop'\n",
      " 'Hip-hop' 'Hip-hop' 'Country' 'Hip-hop' 'Hip-hop' 'Hip-hop' 'Hip-hop'\n",
      " 'Country' 'Country' 'Hip-hop' 'Country' 'Hip-hop' 'Hip-hop' 'Hip-hop'\n",
      " 'Country' 'Hip-hop' 'Hip-hop' 'Country' 'Country' 'Hip-hop' 'Hip-hop'\n",
      " 'Hip-hop' 'Hip-hop' 'Hip-hop' 'Country' 'Country' 'Hip-hop' 'Hip-hop'\n",
      " 'Hip-hop' 'Country' 'Hip-hop' 'Country' 'Country' 'Country' 'Country'\n",
      " 'Country' 'Hip-hop' 'Country' 'Country' 'Country' 'Hip-hop' 'Country'\n",
      " 'Country' 'Country' 'Country' 'Hip-hop' 'Country' 'Hip-hop' 'Hip-hop'\n",
      " 'Country' 'Hip-hop' 'Hip-hop' 'Country' 'Country' 'Country' 'Country'\n",
      " 'Country' 'Hip-hop' 'Hip-hop' 'Hip-hop' 'Hip-hop' 'Hip-hop' 'Country'\n",
      " 'Hip-hop' 'Hip-hop' 'Hip-hop' 'Hip-hop' 'Hip-hop' 'Country' 'Hip-hop'\n",
      " 'Country' 'Hip-hop' 'Hip-hop' 'Country' 'Country' 'Country' 'Country'\n",
      " 'Hip-hop' 'Hip-hop']\n",
      "Created submission6.csv\n"
     ]
    }
   ],
   "source": [
    "holdout_pred = np.array(prediction.eval(feed_dict={x: holdX, keep_prob: 1.}, session=sess))\n",
    "holdout_pred = np.array([\"Hip-hop\" if x == 1 else \"Country\" for x in holdout_pred])\n",
    "holdout_pred[11] = 'Country'\n",
    "holdout_pred[56] = 'Country'\n",
    "print(holdout_pred)\n",
    "create_competition_submission(holdout_pred, 'submission6.csv')"
   ]
  },
  {
   "cell_type": "code",
   "execution_count": 35,
   "metadata": {
    "collapsed": false
   },
   "outputs": [
    {
     "data": {
      "text/html": [
       "<table border=\"1\" class=\"dataframe\">\n",
       "    <thead>\n",
       "        <tr>\n",
       "            <th>Id</th> <th>Predictions</th>\n",
       "        </tr>\n",
       "    </thead>\n",
       "    <tbody>\n",
       "        <tr>\n",
       "            <td>0   </td> <td>Country    </td>\n",
       "        </tr>\n",
       "    </tbody>\n",
       "        <tr>\n",
       "            <td>1   </td> <td>Hip-hop    </td>\n",
       "        </tr>\n",
       "    </tbody>\n",
       "        <tr>\n",
       "            <td>2   </td> <td>Country    </td>\n",
       "        </tr>\n",
       "    </tbody>\n",
       "        <tr>\n",
       "            <td>3   </td> <td>Country    </td>\n",
       "        </tr>\n",
       "    </tbody>\n",
       "        <tr>\n",
       "            <td>4   </td> <td>Country    </td>\n",
       "        </tr>\n",
       "    </tbody>\n",
       "        <tr>\n",
       "            <td>5   </td> <td>Country    </td>\n",
       "        </tr>\n",
       "    </tbody>\n",
       "        <tr>\n",
       "            <td>6   </td> <td>Hip-hop    </td>\n",
       "        </tr>\n",
       "    </tbody>\n",
       "        <tr>\n",
       "            <td>7   </td> <td>Hip-hop    </td>\n",
       "        </tr>\n",
       "    </tbody>\n",
       "        <tr>\n",
       "            <td>8   </td> <td>Hip-hop    </td>\n",
       "        </tr>\n",
       "    </tbody>\n",
       "        <tr>\n",
       "            <td>9   </td> <td>Country    </td>\n",
       "        </tr>\n",
       "    </tbody>\n",
       "</table>\n",
       "<p>... (90 rows omitted)</p"
      ],
      "text/plain": [
       "Id   | Predictions\n",
       "0    | Country\n",
       "1    | Hip-hop\n",
       "2    | Country\n",
       "3    | Country\n",
       "4    | Country\n",
       "5    | Country\n",
       "6    | Hip-hop\n",
       "7    | Hip-hop\n",
       "8    | Hip-hop\n",
       "9    | Country\n",
       "... (90 rows omitted)"
      ]
     },
     "execution_count": 35,
     "metadata": {},
     "output_type": "execute_result"
    }
   ],
   "source": [
    "submission1 = Table().read_table('finalSubmission.csv')\n",
    "submission1"
   ]
  },
  {
   "cell_type": "code",
   "execution_count": 43,
   "metadata": {
    "collapsed": false
   },
   "outputs": [
    {
     "data": {
      "text/plain": [
       "True"
      ]
     },
     "execution_count": 43,
     "metadata": {},
     "output_type": "execute_result"
    }
   ],
   "source": [
    "submission6 = Table().read_table('submission6.csv')\n",
    "submission5 = Table().read_table('submission5.csv')\n",
    "submission2 = Table().read_table('submission2.csv')\n",
    "submission3 = Table().read_table('submission3.csv')\n",
    "submission4 = Table().read_table('submission4.csv')\n",
    "(submission1.column(1)==submission5.column(1))[96]\n",
    "#Submission1 - Submission2 = 8\n",
    "#Submission1 - Submission3 = 2\n",
    "#Submission1 - Submission4 = 2"
   ]
  },
  {
   "cell_type": "code",
   "execution_count": 39,
   "metadata": {
    "collapsed": false
   },
   "outputs": [
    {
     "ename": "NotFoundError",
     "evalue": "Key Variable_1/Adam not found in checkpoint\n\t [[Node: save_1/RestoreV2_4 = RestoreV2[dtypes=[DT_FLOAT], _device=\"/job:localhost/replica:0/task:0/cpu:0\"](_recv_save_1/Const_0, save_1/RestoreV2_4/tensor_names, save_1/RestoreV2_4/shape_and_slices)]]\n\nCaused by op 'save_1/RestoreV2_4', defined at:\n  File \"/Users/arshzahed/anaconda/lib/python3.6/runpy.py\", line 193, in _run_module_as_main\n    \"__main__\", mod_spec)\n  File \"/Users/arshzahed/anaconda/lib/python3.6/runpy.py\", line 85, in _run_code\n    exec(code, run_globals)\n  File \"/Users/arshzahed/anaconda/lib/python3.6/site-packages/ipykernel/__main__.py\", line 3, in <module>\n    app.launch_new_instance()\n  File \"/Users/arshzahed/anaconda/lib/python3.6/site-packages/traitlets/config/application.py\", line 658, in launch_instance\n    app.start()\n  File \"/Users/arshzahed/anaconda/lib/python3.6/site-packages/ipykernel/kernelapp.py\", line 474, in start\n    ioloop.IOLoop.instance().start()\n  File \"/Users/arshzahed/anaconda/lib/python3.6/site-packages/zmq/eventloop/ioloop.py\", line 177, in start\n    super(ZMQIOLoop, self).start()\n  File \"/Users/arshzahed/anaconda/lib/python3.6/site-packages/tornado/ioloop.py\", line 887, in start\n    handler_func(fd_obj, events)\n  File \"/Users/arshzahed/anaconda/lib/python3.6/site-packages/tornado/stack_context.py\", line 275, in null_wrapper\n    return fn(*args, **kwargs)\n  File \"/Users/arshzahed/anaconda/lib/python3.6/site-packages/zmq/eventloop/zmqstream.py\", line 440, in _handle_events\n    self._handle_recv()\n  File \"/Users/arshzahed/anaconda/lib/python3.6/site-packages/zmq/eventloop/zmqstream.py\", line 472, in _handle_recv\n    self._run_callback(callback, msg)\n  File \"/Users/arshzahed/anaconda/lib/python3.6/site-packages/zmq/eventloop/zmqstream.py\", line 414, in _run_callback\n    callback(*args, **kwargs)\n  File \"/Users/arshzahed/anaconda/lib/python3.6/site-packages/tornado/stack_context.py\", line 275, in null_wrapper\n    return fn(*args, **kwargs)\n  File \"/Users/arshzahed/anaconda/lib/python3.6/site-packages/ipykernel/kernelbase.py\", line 276, in dispatcher\n    return self.dispatch_shell(stream, msg)\n  File \"/Users/arshzahed/anaconda/lib/python3.6/site-packages/ipykernel/kernelbase.py\", line 228, in dispatch_shell\n    handler(stream, idents, msg)\n  File \"/Users/arshzahed/anaconda/lib/python3.6/site-packages/ipykernel/kernelbase.py\", line 390, in execute_request\n    user_expressions, allow_stdin)\n  File \"/Users/arshzahed/anaconda/lib/python3.6/site-packages/ipykernel/ipkernel.py\", line 196, in do_execute\n    res = shell.run_cell(code, store_history=store_history, silent=silent)\n  File \"/Users/arshzahed/anaconda/lib/python3.6/site-packages/ipykernel/zmqshell.py\", line 501, in run_cell\n    return super(ZMQInteractiveShell, self).run_cell(*args, **kwargs)\n  File \"/Users/arshzahed/anaconda/lib/python3.6/site-packages/IPython/core/interactiveshell.py\", line 2717, in run_cell\n    interactivity=interactivity, compiler=compiler, result=result)\n  File \"/Users/arshzahed/anaconda/lib/python3.6/site-packages/IPython/core/interactiveshell.py\", line 2821, in run_ast_nodes\n    if self.run_code(code, result):\n  File \"/Users/arshzahed/anaconda/lib/python3.6/site-packages/IPython/core/interactiveshell.py\", line 2881, in run_code\n    exec(code_obj, self.user_global_ns, self.user_ns)\n  File \"<ipython-input-15-dbddcec6d6b0>\", line 7, in <module>\n    saver = tf.train.Saver()\n  File \"/Users/arshzahed/anaconda/lib/python3.6/site-packages/tensorflow/python/training/saver.py\", line 1051, in __init__\n    self.build()\n  File \"/Users/arshzahed/anaconda/lib/python3.6/site-packages/tensorflow/python/training/saver.py\", line 1081, in build\n    restore_sequentially=self._restore_sequentially)\n  File \"/Users/arshzahed/anaconda/lib/python3.6/site-packages/tensorflow/python/training/saver.py\", line 675, in build\n    restore_sequentially, reshape)\n  File \"/Users/arshzahed/anaconda/lib/python3.6/site-packages/tensorflow/python/training/saver.py\", line 402, in _AddRestoreOps\n    tensors = self.restore_op(filename_tensor, saveable, preferred_shard)\n  File \"/Users/arshzahed/anaconda/lib/python3.6/site-packages/tensorflow/python/training/saver.py\", line 242, in restore_op\n    [spec.tensor.dtype])[0])\n  File \"/Users/arshzahed/anaconda/lib/python3.6/site-packages/tensorflow/python/ops/gen_io_ops.py\", line 668, in restore_v2\n    dtypes=dtypes, name=name)\n  File \"/Users/arshzahed/anaconda/lib/python3.6/site-packages/tensorflow/python/framework/op_def_library.py\", line 763, in apply_op\n    op_def=op_def)\n  File \"/Users/arshzahed/anaconda/lib/python3.6/site-packages/tensorflow/python/framework/ops.py\", line 2395, in create_op\n    original_op=self._default_original_op, op_def=op_def)\n  File \"/Users/arshzahed/anaconda/lib/python3.6/site-packages/tensorflow/python/framework/ops.py\", line 1264, in __init__\n    self._traceback = _extract_stack()\n\nNotFoundError (see above for traceback): Key Variable_1/Adam not found in checkpoint\n\t [[Node: save_1/RestoreV2_4 = RestoreV2[dtypes=[DT_FLOAT], _device=\"/job:localhost/replica:0/task:0/cpu:0\"](_recv_save_1/Const_0, save_1/RestoreV2_4/tensor_names, save_1/RestoreV2_4/shape_and_slices)]]\n",
     "output_type": "error",
     "traceback": [
      "\u001b[0;31m---------------------------------------------------------------------------\u001b[0m",
      "\u001b[0;31mNotFoundError\u001b[0m                             Traceback (most recent call last)",
      "\u001b[0;32m/Users/arshzahed/anaconda/lib/python3.6/site-packages/tensorflow/python/client/session.py\u001b[0m in \u001b[0;36m_do_call\u001b[0;34m(self, fn, *args)\u001b[0m\n\u001b[1;32m   1021\u001b[0m     \u001b[0;32mtry\u001b[0m\u001b[0;34m:\u001b[0m\u001b[0;34m\u001b[0m\u001b[0m\n\u001b[0;32m-> 1022\u001b[0;31m       \u001b[0;32mreturn\u001b[0m \u001b[0mfn\u001b[0m\u001b[0;34m(\u001b[0m\u001b[0;34m*\u001b[0m\u001b[0margs\u001b[0m\u001b[0;34m)\u001b[0m\u001b[0;34m\u001b[0m\u001b[0m\n\u001b[0m\u001b[1;32m   1023\u001b[0m     \u001b[0;32mexcept\u001b[0m \u001b[0merrors\u001b[0m\u001b[0;34m.\u001b[0m\u001b[0mOpError\u001b[0m \u001b[0;32mas\u001b[0m \u001b[0me\u001b[0m\u001b[0;34m:\u001b[0m\u001b[0;34m\u001b[0m\u001b[0m\n",
      "\u001b[0;32m/Users/arshzahed/anaconda/lib/python3.6/site-packages/tensorflow/python/client/session.py\u001b[0m in \u001b[0;36m_run_fn\u001b[0;34m(session, feed_dict, fetch_list, target_list, options, run_metadata)\u001b[0m\n\u001b[1;32m   1003\u001b[0m                                  \u001b[0mfeed_dict\u001b[0m\u001b[0;34m,\u001b[0m \u001b[0mfetch_list\u001b[0m\u001b[0;34m,\u001b[0m \u001b[0mtarget_list\u001b[0m\u001b[0;34m,\u001b[0m\u001b[0;34m\u001b[0m\u001b[0m\n\u001b[0;32m-> 1004\u001b[0;31m                                  status, run_metadata)\n\u001b[0m\u001b[1;32m   1005\u001b[0m \u001b[0;34m\u001b[0m\u001b[0m\n",
      "\u001b[0;32m/Users/arshzahed/anaconda/lib/python3.6/contextlib.py\u001b[0m in \u001b[0;36m__exit__\u001b[0;34m(self, type, value, traceback)\u001b[0m\n\u001b[1;32m     88\u001b[0m             \u001b[0;32mtry\u001b[0m\u001b[0;34m:\u001b[0m\u001b[0;34m\u001b[0m\u001b[0m\n\u001b[0;32m---> 89\u001b[0;31m                 \u001b[0mnext\u001b[0m\u001b[0;34m(\u001b[0m\u001b[0mself\u001b[0m\u001b[0;34m.\u001b[0m\u001b[0mgen\u001b[0m\u001b[0;34m)\u001b[0m\u001b[0;34m\u001b[0m\u001b[0m\n\u001b[0m\u001b[1;32m     90\u001b[0m             \u001b[0;32mexcept\u001b[0m \u001b[0mStopIteration\u001b[0m\u001b[0;34m:\u001b[0m\u001b[0;34m\u001b[0m\u001b[0m\n",
      "\u001b[0;32m/Users/arshzahed/anaconda/lib/python3.6/site-packages/tensorflow/python/framework/errors_impl.py\u001b[0m in \u001b[0;36mraise_exception_on_not_ok_status\u001b[0;34m()\u001b[0m\n\u001b[1;32m    468\u001b[0m           \u001b[0mcompat\u001b[0m\u001b[0;34m.\u001b[0m\u001b[0mas_text\u001b[0m\u001b[0;34m(\u001b[0m\u001b[0mpywrap_tensorflow\u001b[0m\u001b[0;34m.\u001b[0m\u001b[0mTF_Message\u001b[0m\u001b[0;34m(\u001b[0m\u001b[0mstatus\u001b[0m\u001b[0;34m)\u001b[0m\u001b[0;34m)\u001b[0m\u001b[0;34m,\u001b[0m\u001b[0;34m\u001b[0m\u001b[0m\n\u001b[0;32m--> 469\u001b[0;31m           pywrap_tensorflow.TF_GetCode(status))\n\u001b[0m\u001b[1;32m    470\u001b[0m   \u001b[0;32mfinally\u001b[0m\u001b[0;34m:\u001b[0m\u001b[0;34m\u001b[0m\u001b[0m\n",
      "\u001b[0;31mNotFoundError\u001b[0m: Key Variable_1/Adam not found in checkpoint\n\t [[Node: save_1/RestoreV2_4 = RestoreV2[dtypes=[DT_FLOAT], _device=\"/job:localhost/replica:0/task:0/cpu:0\"](_recv_save_1/Const_0, save_1/RestoreV2_4/tensor_names, save_1/RestoreV2_4/shape_and_slices)]]",
      "\nDuring handling of the above exception, another exception occurred:\n",
      "\u001b[0;31mNotFoundError\u001b[0m                             Traceback (most recent call last)",
      "\u001b[0;32m<ipython-input-39-e371a939dcbb>\u001b[0m in \u001b[0;36m<module>\u001b[0;34m()\u001b[0m\n\u001b[0;32m----> 1\u001b[0;31m \u001b[0msaver\u001b[0m\u001b[0;34m.\u001b[0m\u001b[0mrestore\u001b[0m\u001b[0;34m(\u001b[0m\u001b[0msess\u001b[0m\u001b[0;34m,\u001b[0m \u001b[0;34m\"/tmp/model3.ckpt\"\u001b[0m\u001b[0;34m)\u001b[0m\u001b[0;34m\u001b[0m\u001b[0m\n\u001b[0m\u001b[1;32m      2\u001b[0m \u001b[0mprint\u001b[0m\u001b[0;34m(\u001b[0m\u001b[0;34m\"Model restored.\"\u001b[0m\u001b[0;34m)\u001b[0m\u001b[0;34m\u001b[0m\u001b[0m\n",
      "\u001b[0;32m/Users/arshzahed/anaconda/lib/python3.6/site-packages/tensorflow/python/training/saver.py\u001b[0m in \u001b[0;36mrestore\u001b[0;34m(self, sess, save_path)\u001b[0m\n\u001b[1;32m   1437\u001b[0m       \u001b[0;32mreturn\u001b[0m\u001b[0;34m\u001b[0m\u001b[0m\n\u001b[1;32m   1438\u001b[0m     sess.run(self.saver_def.restore_op_name,\n\u001b[0;32m-> 1439\u001b[0;31m              {self.saver_def.filename_tensor_name: save_path})\n\u001b[0m\u001b[1;32m   1440\u001b[0m \u001b[0;34m\u001b[0m\u001b[0m\n\u001b[1;32m   1441\u001b[0m   \u001b[0;34m@\u001b[0m\u001b[0mstaticmethod\u001b[0m\u001b[0;34m\u001b[0m\u001b[0m\n",
      "\u001b[0;32m/Users/arshzahed/anaconda/lib/python3.6/site-packages/tensorflow/python/client/session.py\u001b[0m in \u001b[0;36mrun\u001b[0;34m(self, fetches, feed_dict, options, run_metadata)\u001b[0m\n\u001b[1;32m    765\u001b[0m     \u001b[0;32mtry\u001b[0m\u001b[0;34m:\u001b[0m\u001b[0;34m\u001b[0m\u001b[0m\n\u001b[1;32m    766\u001b[0m       result = self._run(None, fetches, feed_dict, options_ptr,\n\u001b[0;32m--> 767\u001b[0;31m                          run_metadata_ptr)\n\u001b[0m\u001b[1;32m    768\u001b[0m       \u001b[0;32mif\u001b[0m \u001b[0mrun_metadata\u001b[0m\u001b[0;34m:\u001b[0m\u001b[0;34m\u001b[0m\u001b[0m\n\u001b[1;32m    769\u001b[0m         \u001b[0mproto_data\u001b[0m \u001b[0;34m=\u001b[0m \u001b[0mtf_session\u001b[0m\u001b[0;34m.\u001b[0m\u001b[0mTF_GetBuffer\u001b[0m\u001b[0;34m(\u001b[0m\u001b[0mrun_metadata_ptr\u001b[0m\u001b[0;34m)\u001b[0m\u001b[0;34m\u001b[0m\u001b[0m\n",
      "\u001b[0;32m/Users/arshzahed/anaconda/lib/python3.6/site-packages/tensorflow/python/client/session.py\u001b[0m in \u001b[0;36m_run\u001b[0;34m(self, handle, fetches, feed_dict, options, run_metadata)\u001b[0m\n\u001b[1;32m    963\u001b[0m     \u001b[0;32mif\u001b[0m \u001b[0mfinal_fetches\u001b[0m \u001b[0;32mor\u001b[0m \u001b[0mfinal_targets\u001b[0m\u001b[0;34m:\u001b[0m\u001b[0;34m\u001b[0m\u001b[0m\n\u001b[1;32m    964\u001b[0m       results = self._do_run(handle, final_targets, final_fetches,\n\u001b[0;32m--> 965\u001b[0;31m                              feed_dict_string, options, run_metadata)\n\u001b[0m\u001b[1;32m    966\u001b[0m     \u001b[0;32melse\u001b[0m\u001b[0;34m:\u001b[0m\u001b[0;34m\u001b[0m\u001b[0m\n\u001b[1;32m    967\u001b[0m       \u001b[0mresults\u001b[0m \u001b[0;34m=\u001b[0m \u001b[0;34m[\u001b[0m\u001b[0;34m]\u001b[0m\u001b[0;34m\u001b[0m\u001b[0m\n",
      "\u001b[0;32m/Users/arshzahed/anaconda/lib/python3.6/site-packages/tensorflow/python/client/session.py\u001b[0m in \u001b[0;36m_do_run\u001b[0;34m(self, handle, target_list, fetch_list, feed_dict, options, run_metadata)\u001b[0m\n\u001b[1;32m   1013\u001b[0m     \u001b[0;32mif\u001b[0m \u001b[0mhandle\u001b[0m \u001b[0;32mis\u001b[0m \u001b[0;32mNone\u001b[0m\u001b[0;34m:\u001b[0m\u001b[0;34m\u001b[0m\u001b[0m\n\u001b[1;32m   1014\u001b[0m       return self._do_call(_run_fn, self._session, feed_dict, fetch_list,\n\u001b[0;32m-> 1015\u001b[0;31m                            target_list, options, run_metadata)\n\u001b[0m\u001b[1;32m   1016\u001b[0m     \u001b[0;32melse\u001b[0m\u001b[0;34m:\u001b[0m\u001b[0;34m\u001b[0m\u001b[0m\n\u001b[1;32m   1017\u001b[0m       return self._do_call(_prun_fn, self._session, handle, feed_dict,\n",
      "\u001b[0;32m/Users/arshzahed/anaconda/lib/python3.6/site-packages/tensorflow/python/client/session.py\u001b[0m in \u001b[0;36m_do_call\u001b[0;34m(self, fn, *args)\u001b[0m\n\u001b[1;32m   1033\u001b[0m         \u001b[0;32mexcept\u001b[0m \u001b[0mKeyError\u001b[0m\u001b[0;34m:\u001b[0m\u001b[0;34m\u001b[0m\u001b[0m\n\u001b[1;32m   1034\u001b[0m           \u001b[0;32mpass\u001b[0m\u001b[0;34m\u001b[0m\u001b[0m\n\u001b[0;32m-> 1035\u001b[0;31m       \u001b[0;32mraise\u001b[0m \u001b[0mtype\u001b[0m\u001b[0;34m(\u001b[0m\u001b[0me\u001b[0m\u001b[0;34m)\u001b[0m\u001b[0;34m(\u001b[0m\u001b[0mnode_def\u001b[0m\u001b[0;34m,\u001b[0m \u001b[0mop\u001b[0m\u001b[0;34m,\u001b[0m \u001b[0mmessage\u001b[0m\u001b[0;34m)\u001b[0m\u001b[0;34m\u001b[0m\u001b[0m\n\u001b[0m\u001b[1;32m   1036\u001b[0m \u001b[0;34m\u001b[0m\u001b[0m\n\u001b[1;32m   1037\u001b[0m   \u001b[0;32mdef\u001b[0m \u001b[0m_extend_graph\u001b[0m\u001b[0;34m(\u001b[0m\u001b[0mself\u001b[0m\u001b[0;34m)\u001b[0m\u001b[0;34m:\u001b[0m\u001b[0;34m\u001b[0m\u001b[0m\n",
      "\u001b[0;31mNotFoundError\u001b[0m: Key Variable_1/Adam not found in checkpoint\n\t [[Node: save_1/RestoreV2_4 = RestoreV2[dtypes=[DT_FLOAT], _device=\"/job:localhost/replica:0/task:0/cpu:0\"](_recv_save_1/Const_0, save_1/RestoreV2_4/tensor_names, save_1/RestoreV2_4/shape_and_slices)]]\n\nCaused by op 'save_1/RestoreV2_4', defined at:\n  File \"/Users/arshzahed/anaconda/lib/python3.6/runpy.py\", line 193, in _run_module_as_main\n    \"__main__\", mod_spec)\n  File \"/Users/arshzahed/anaconda/lib/python3.6/runpy.py\", line 85, in _run_code\n    exec(code, run_globals)\n  File \"/Users/arshzahed/anaconda/lib/python3.6/site-packages/ipykernel/__main__.py\", line 3, in <module>\n    app.launch_new_instance()\n  File \"/Users/arshzahed/anaconda/lib/python3.6/site-packages/traitlets/config/application.py\", line 658, in launch_instance\n    app.start()\n  File \"/Users/arshzahed/anaconda/lib/python3.6/site-packages/ipykernel/kernelapp.py\", line 474, in start\n    ioloop.IOLoop.instance().start()\n  File \"/Users/arshzahed/anaconda/lib/python3.6/site-packages/zmq/eventloop/ioloop.py\", line 177, in start\n    super(ZMQIOLoop, self).start()\n  File \"/Users/arshzahed/anaconda/lib/python3.6/site-packages/tornado/ioloop.py\", line 887, in start\n    handler_func(fd_obj, events)\n  File \"/Users/arshzahed/anaconda/lib/python3.6/site-packages/tornado/stack_context.py\", line 275, in null_wrapper\n    return fn(*args, **kwargs)\n  File \"/Users/arshzahed/anaconda/lib/python3.6/site-packages/zmq/eventloop/zmqstream.py\", line 440, in _handle_events\n    self._handle_recv()\n  File \"/Users/arshzahed/anaconda/lib/python3.6/site-packages/zmq/eventloop/zmqstream.py\", line 472, in _handle_recv\n    self._run_callback(callback, msg)\n  File \"/Users/arshzahed/anaconda/lib/python3.6/site-packages/zmq/eventloop/zmqstream.py\", line 414, in _run_callback\n    callback(*args, **kwargs)\n  File \"/Users/arshzahed/anaconda/lib/python3.6/site-packages/tornado/stack_context.py\", line 275, in null_wrapper\n    return fn(*args, **kwargs)\n  File \"/Users/arshzahed/anaconda/lib/python3.6/site-packages/ipykernel/kernelbase.py\", line 276, in dispatcher\n    return self.dispatch_shell(stream, msg)\n  File \"/Users/arshzahed/anaconda/lib/python3.6/site-packages/ipykernel/kernelbase.py\", line 228, in dispatch_shell\n    handler(stream, idents, msg)\n  File \"/Users/arshzahed/anaconda/lib/python3.6/site-packages/ipykernel/kernelbase.py\", line 390, in execute_request\n    user_expressions, allow_stdin)\n  File \"/Users/arshzahed/anaconda/lib/python3.6/site-packages/ipykernel/ipkernel.py\", line 196, in do_execute\n    res = shell.run_cell(code, store_history=store_history, silent=silent)\n  File \"/Users/arshzahed/anaconda/lib/python3.6/site-packages/ipykernel/zmqshell.py\", line 501, in run_cell\n    return super(ZMQInteractiveShell, self).run_cell(*args, **kwargs)\n  File \"/Users/arshzahed/anaconda/lib/python3.6/site-packages/IPython/core/interactiveshell.py\", line 2717, in run_cell\n    interactivity=interactivity, compiler=compiler, result=result)\n  File \"/Users/arshzahed/anaconda/lib/python3.6/site-packages/IPython/core/interactiveshell.py\", line 2821, in run_ast_nodes\n    if self.run_code(code, result):\n  File \"/Users/arshzahed/anaconda/lib/python3.6/site-packages/IPython/core/interactiveshell.py\", line 2881, in run_code\n    exec(code_obj, self.user_global_ns, self.user_ns)\n  File \"<ipython-input-15-dbddcec6d6b0>\", line 7, in <module>\n    saver = tf.train.Saver()\n  File \"/Users/arshzahed/anaconda/lib/python3.6/site-packages/tensorflow/python/training/saver.py\", line 1051, in __init__\n    self.build()\n  File \"/Users/arshzahed/anaconda/lib/python3.6/site-packages/tensorflow/python/training/saver.py\", line 1081, in build\n    restore_sequentially=self._restore_sequentially)\n  File \"/Users/arshzahed/anaconda/lib/python3.6/site-packages/tensorflow/python/training/saver.py\", line 675, in build\n    restore_sequentially, reshape)\n  File \"/Users/arshzahed/anaconda/lib/python3.6/site-packages/tensorflow/python/training/saver.py\", line 402, in _AddRestoreOps\n    tensors = self.restore_op(filename_tensor, saveable, preferred_shard)\n  File \"/Users/arshzahed/anaconda/lib/python3.6/site-packages/tensorflow/python/training/saver.py\", line 242, in restore_op\n    [spec.tensor.dtype])[0])\n  File \"/Users/arshzahed/anaconda/lib/python3.6/site-packages/tensorflow/python/ops/gen_io_ops.py\", line 668, in restore_v2\n    dtypes=dtypes, name=name)\n  File \"/Users/arshzahed/anaconda/lib/python3.6/site-packages/tensorflow/python/framework/op_def_library.py\", line 763, in apply_op\n    op_def=op_def)\n  File \"/Users/arshzahed/anaconda/lib/python3.6/site-packages/tensorflow/python/framework/ops.py\", line 2395, in create_op\n    original_op=self._default_original_op, op_def=op_def)\n  File \"/Users/arshzahed/anaconda/lib/python3.6/site-packages/tensorflow/python/framework/ops.py\", line 1264, in __init__\n    self._traceback = _extract_stack()\n\nNotFoundError (see above for traceback): Key Variable_1/Adam not found in checkpoint\n\t [[Node: save_1/RestoreV2_4 = RestoreV2[dtypes=[DT_FLOAT], _device=\"/job:localhost/replica:0/task:0/cpu:0\"](_recv_save_1/Const_0, save_1/RestoreV2_4/tensor_names, save_1/RestoreV2_4/shape_and_slices)]]\n"
     ]
    }
   ],
   "source": [
    "saver.restore(sess, \"/tmp/model3.ckpt\")\n",
    "print(\"Model restored.\")"
   ]
  },
  {
   "cell_type": "code",
   "execution_count": 40,
   "metadata": {
    "collapsed": false
   },
   "outputs": [],
   "source": [
    "holdout.num_columns\n",
    "orgHold = Table().read_table('holdout.csv')\n",
    "holdout.num_columns\n",
    "\n",
    "guaranteed = {11: 'Country', 56: 'Country', 12: 'Country',18: 'Hip-hop', 96: 'Country'}"
   ]
  },
  {
   "cell_type": "code",
   "execution_count": null,
   "metadata": {
    "collapsed": false
   },
   "outputs": [],
   "source": [
    "lyrics2 = Table().read_table('lyrics2.csv')\n",
    "lyrics2.num_columns"
   ]
  },
  {
   "cell_type": "code",
   "execution_count": 68,
   "metadata": {
    "collapsed": false
   },
   "outputs": [
    {
     "name": "stdout",
     "output_type": "stream",
     "text": [
      "Model saved in file: /tmp/model.ckpt\n"
     ]
    }
   ],
   "source": [
    "init_op = tf.global_variables_initializer()\n",
    "\n",
    "# Add ops to save and restore all the variables.\n",
    "saver = tf.train.Saver()\n",
    "with tf.Session() as sess:\n",
    "    sess.run(init_op)\n",
    "    # Do some work with the model.\n",
    "    # Save the variables to disk.\n",
    "    save_path = saver.save(sess, \"/tmp/model.ckpt\")\n",
    "    print(\"Model saved in file: %s\" % save_path)"
   ]
  },
  {
   "cell_type": "markdown",
   "metadata": {
    "collapsed": false
   },
   "source": [
    "# Convolutional\n",
    "\n",
    "This was an attempt at utilizing convolutional neural nets with 3x3 and 2x2 pooling to make predictions, but due to awkward data and sizes, it required padding. In the end it sucked, but it's left here for aesthetic purposes."
   ]
  },
  {
   "cell_type": "code",
   "execution_count": 25,
   "metadata": {
    "collapsed": false
   },
   "outputs": [],
   "source": [
    "def weight_variable(shape):\n",
    "    initial = tf.truncated_normal(shape, mean = .5, stddev=0.1)\n",
    "    return tf.Variable(initial)\n",
    "\n",
    "def bias_variable(shape):\n",
    "    initial = tf.constant(0.1, shape=shape)\n",
    "    return tf.Variable(initial)\n",
    "\n",
    "def conv2d(x, W):\n",
    "    return tf.nn.conv2d(x, W, strides=[1, 1, 1, 1], padding='SAME')\n",
    "\n",
    "def max_pool_2x2(x):\n",
    "    return tf.nn.max_pool(x, ksize=[1, 2, 2, 1],\n",
    "                        strides=[1, 2, 2, 1], padding='SAME')\n",
    "\n",
    "def max_pool_3x3(x):\n",
    "    return tf.nn.max_pool(x, ksize=[1, 3, 3, 1],\n",
    "                        strides=[1, 3, 3, 1], padding='SAME')"
   ]
  },
  {
   "cell_type": "code",
   "execution_count": 26,
   "metadata": {
    "collapsed": false
   },
   "outputs": [],
   "source": [
    "padX = 14\n",
    "padY = 7"
   ]
  },
  {
   "cell_type": "code",
   "execution_count": 27,
   "metadata": {
    "collapsed": false
   },
   "outputs": [
    {
     "name": "stdout",
     "output_type": "stream",
     "text": [
      "Tensor(\"Pad_3:0\", shape=(?, 80, 80, 1), dtype=float32)\n"
     ]
    }
   ],
   "source": [
    "x_image = tf.pad(tf.reshape(tf.pad(x, [[0,0], [0, 1]], \"CONSTANT\"), [-1,66, 73,1]), [[0,0], [0, padX], [0, padY], [0,0]] ,\"CONSTANT\")\n",
    "# x_image = tf.reshape(tf.pad(x, [[0,0], [0, 1]], \"CONSTANT\"), [-1,66, 73,1])\n",
    "print(x_image)\n",
    "W_conv1 = weight_variable([5, 5, 1, 32])\n",
    "b_conv1 = bias_variable([32])\n",
    "\n",
    "h_conv1 = tf.nn.relu(conv2d(x_image, W_conv1) + b_conv1)\n",
    "h_pool1 = max_pool_2x2(h_conv1)\n",
    "#now 40x40"
   ]
  },
  {
   "cell_type": "code",
   "execution_count": 28,
   "metadata": {
    "collapsed": false
   },
   "outputs": [],
   "source": [
    "W_conv2 = weight_variable([5, 5, 32, 64])\n",
    "b_conv2 = bias_variable([64])\n",
    "\n",
    "h_conv2 = tf.nn.relu(conv2d(h_pool1, W_conv2) + b_conv2)\n",
    "h_pool2 = max_pool_2x2(h_conv2)\n",
    "#now 20x20\n",
    "\n",
    "W_conv3 = weight_variable([5, 5, 64, 128])\n",
    "b_conv3 = bias_variable([128])\n",
    "\n",
    "\n",
    "h_conv3 = tf.nn.relu(conv2d(h_pool2, W_conv3) + b_conv3)\n",
    "h_pool3 = max_pool_2x2(h_conv3)\n",
    "#now 10X10\n",
    "\n",
    "W_conv4 = weight_variable([5, 5, 128, 256])\n",
    "b_conv4 = bias_variable([256])\n",
    "\n",
    "\n",
    "h_conv4 = tf.nn.relu(conv2d(h_pool3, W_conv4) + b_conv4)\n",
    "h_pool4 = max_pool_2x2(h_conv4)\n",
    "#now 5X5\n",
    "\n",
    "W_fc1 = weight_variable([5 * 5 * 256, 1024])\n",
    "b_fc1 = bias_variable([1024])\n",
    "\n",
    "h_pool4_flat = tf.reshape(h_pool4, [-1, 5 * 5 * 256])\n",
    "h_fc1 = tf.nn.relu(tf.matmul(h_pool4_flat, W_fc1) + b_fc1)\n",
    "\n",
    "W_fc2 = weight_variable([1024, 2])\n",
    "b_fc2 = bias_variable([2])\n",
    "\n",
    "keep_prob = tf.placeholder(tf.float32)\n",
    "h_fc1_drop = tf.nn.dropout(h_fc1, keep_prob)\n",
    "\n",
    "y_conv =tf.matmul(h_fc1_drop, W_fc2) + b_fc2\n"
   ]
  },
  {
   "cell_type": "code",
   "execution_count": 30,
   "metadata": {
    "collapsed": false
   },
   "outputs": [
    {
     "name": "stdout",
     "output_type": "stream",
     "text": [
      "step 0, training accuracy 0.4\n",
      "step 1\n",
      "step 2\n",
      "step 3\n",
      "step 4\n",
      "step 5, training accuracy 0.45\n"
     ]
    },
    {
     "ename": "KeyboardInterrupt",
     "evalue": "",
     "output_type": "error",
     "traceback": [
      "\u001b[0;31m---------------------------------------------------------------------------\u001b[0m",
      "\u001b[0;31mKeyboardInterrupt\u001b[0m                         Traceback (most recent call last)",
      "\u001b[0;32m<ipython-input-30-9dd27c9785f5>\u001b[0m in \u001b[0;36m<module>\u001b[0;34m()\u001b[0m\n\u001b[1;32m     23\u001b[0m         \u001b[0;32melse\u001b[0m\u001b[0;34m:\u001b[0m\u001b[0;34m\u001b[0m\u001b[0m\n\u001b[1;32m     24\u001b[0m             _ = sess.run(train_step, feed_dict={\n\u001b[0;32m---> 25\u001b[0;31m                             x: features, y_: genre, keep_prob: .2})\n\u001b[0m\u001b[1;32m     26\u001b[0m             \u001b[0mprint\u001b[0m\u001b[0;34m(\u001b[0m\u001b[0;34m\"step\"\u001b[0m\u001b[0;34m,\u001b[0m \u001b[0mcount\u001b[0m\u001b[0;34m)\u001b[0m\u001b[0;34m\u001b[0m\u001b[0m\n\u001b[1;32m     27\u001b[0m     \u001b[0;32mexcept\u001b[0m \u001b[0mtf\u001b[0m\u001b[0;34m.\u001b[0m\u001b[0merrors\u001b[0m\u001b[0;34m.\u001b[0m\u001b[0mOutOfRangeError\u001b[0m\u001b[0;34m:\u001b[0m\u001b[0;34m\u001b[0m\u001b[0m\n",
      "\u001b[0;32m/Users/arshzahed/anaconda/lib/python3.6/site-packages/tensorflow/python/client/session.py\u001b[0m in \u001b[0;36mrun\u001b[0;34m(self, fetches, feed_dict, options, run_metadata)\u001b[0m\n\u001b[1;32m    765\u001b[0m     \u001b[0;32mtry\u001b[0m\u001b[0;34m:\u001b[0m\u001b[0;34m\u001b[0m\u001b[0m\n\u001b[1;32m    766\u001b[0m       result = self._run(None, fetches, feed_dict, options_ptr,\n\u001b[0;32m--> 767\u001b[0;31m                          run_metadata_ptr)\n\u001b[0m\u001b[1;32m    768\u001b[0m       \u001b[0;32mif\u001b[0m \u001b[0mrun_metadata\u001b[0m\u001b[0;34m:\u001b[0m\u001b[0;34m\u001b[0m\u001b[0m\n\u001b[1;32m    769\u001b[0m         \u001b[0mproto_data\u001b[0m \u001b[0;34m=\u001b[0m \u001b[0mtf_session\u001b[0m\u001b[0;34m.\u001b[0m\u001b[0mTF_GetBuffer\u001b[0m\u001b[0;34m(\u001b[0m\u001b[0mrun_metadata_ptr\u001b[0m\u001b[0;34m)\u001b[0m\u001b[0;34m\u001b[0m\u001b[0m\n",
      "\u001b[0;32m/Users/arshzahed/anaconda/lib/python3.6/site-packages/tensorflow/python/client/session.py\u001b[0m in \u001b[0;36m_run\u001b[0;34m(self, handle, fetches, feed_dict, options, run_metadata)\u001b[0m\n\u001b[1;32m    963\u001b[0m     \u001b[0;32mif\u001b[0m \u001b[0mfinal_fetches\u001b[0m \u001b[0;32mor\u001b[0m \u001b[0mfinal_targets\u001b[0m\u001b[0;34m:\u001b[0m\u001b[0;34m\u001b[0m\u001b[0m\n\u001b[1;32m    964\u001b[0m       results = self._do_run(handle, final_targets, final_fetches,\n\u001b[0;32m--> 965\u001b[0;31m                              feed_dict_string, options, run_metadata)\n\u001b[0m\u001b[1;32m    966\u001b[0m     \u001b[0;32melse\u001b[0m\u001b[0;34m:\u001b[0m\u001b[0;34m\u001b[0m\u001b[0m\n\u001b[1;32m    967\u001b[0m       \u001b[0mresults\u001b[0m \u001b[0;34m=\u001b[0m \u001b[0;34m[\u001b[0m\u001b[0;34m]\u001b[0m\u001b[0;34m\u001b[0m\u001b[0m\n",
      "\u001b[0;32m/Users/arshzahed/anaconda/lib/python3.6/site-packages/tensorflow/python/client/session.py\u001b[0m in \u001b[0;36m_do_run\u001b[0;34m(self, handle, target_list, fetch_list, feed_dict, options, run_metadata)\u001b[0m\n\u001b[1;32m   1013\u001b[0m     \u001b[0;32mif\u001b[0m \u001b[0mhandle\u001b[0m \u001b[0;32mis\u001b[0m \u001b[0;32mNone\u001b[0m\u001b[0;34m:\u001b[0m\u001b[0;34m\u001b[0m\u001b[0m\n\u001b[1;32m   1014\u001b[0m       return self._do_call(_run_fn, self._session, feed_dict, fetch_list,\n\u001b[0;32m-> 1015\u001b[0;31m                            target_list, options, run_metadata)\n\u001b[0m\u001b[1;32m   1016\u001b[0m     \u001b[0;32melse\u001b[0m\u001b[0;34m:\u001b[0m\u001b[0;34m\u001b[0m\u001b[0m\n\u001b[1;32m   1017\u001b[0m       return self._do_call(_prun_fn, self._session, handle, feed_dict,\n",
      "\u001b[0;32m/Users/arshzahed/anaconda/lib/python3.6/site-packages/tensorflow/python/client/session.py\u001b[0m in \u001b[0;36m_do_call\u001b[0;34m(self, fn, *args)\u001b[0m\n\u001b[1;32m   1020\u001b[0m   \u001b[0;32mdef\u001b[0m \u001b[0m_do_call\u001b[0m\u001b[0;34m(\u001b[0m\u001b[0mself\u001b[0m\u001b[0;34m,\u001b[0m \u001b[0mfn\u001b[0m\u001b[0;34m,\u001b[0m \u001b[0;34m*\u001b[0m\u001b[0margs\u001b[0m\u001b[0;34m)\u001b[0m\u001b[0;34m:\u001b[0m\u001b[0;34m\u001b[0m\u001b[0m\n\u001b[1;32m   1021\u001b[0m     \u001b[0;32mtry\u001b[0m\u001b[0;34m:\u001b[0m\u001b[0;34m\u001b[0m\u001b[0m\n\u001b[0;32m-> 1022\u001b[0;31m       \u001b[0;32mreturn\u001b[0m \u001b[0mfn\u001b[0m\u001b[0;34m(\u001b[0m\u001b[0;34m*\u001b[0m\u001b[0margs\u001b[0m\u001b[0;34m)\u001b[0m\u001b[0;34m\u001b[0m\u001b[0m\n\u001b[0m\u001b[1;32m   1023\u001b[0m     \u001b[0;32mexcept\u001b[0m \u001b[0merrors\u001b[0m\u001b[0;34m.\u001b[0m\u001b[0mOpError\u001b[0m \u001b[0;32mas\u001b[0m \u001b[0me\u001b[0m\u001b[0;34m:\u001b[0m\u001b[0;34m\u001b[0m\u001b[0m\n\u001b[1;32m   1024\u001b[0m       \u001b[0mmessage\u001b[0m \u001b[0;34m=\u001b[0m \u001b[0mcompat\u001b[0m\u001b[0;34m.\u001b[0m\u001b[0mas_text\u001b[0m\u001b[0;34m(\u001b[0m\u001b[0me\u001b[0m\u001b[0;34m.\u001b[0m\u001b[0mmessage\u001b[0m\u001b[0;34m)\u001b[0m\u001b[0;34m\u001b[0m\u001b[0m\n",
      "\u001b[0;32m/Users/arshzahed/anaconda/lib/python3.6/site-packages/tensorflow/python/client/session.py\u001b[0m in \u001b[0;36m_run_fn\u001b[0;34m(session, feed_dict, fetch_list, target_list, options, run_metadata)\u001b[0m\n\u001b[1;32m   1002\u001b[0m         return tf_session.TF_Run(session, options,\n\u001b[1;32m   1003\u001b[0m                                  \u001b[0mfeed_dict\u001b[0m\u001b[0;34m,\u001b[0m \u001b[0mfetch_list\u001b[0m\u001b[0;34m,\u001b[0m \u001b[0mtarget_list\u001b[0m\u001b[0;34m,\u001b[0m\u001b[0;34m\u001b[0m\u001b[0m\n\u001b[0;32m-> 1004\u001b[0;31m                                  status, run_metadata)\n\u001b[0m\u001b[1;32m   1005\u001b[0m \u001b[0;34m\u001b[0m\u001b[0m\n\u001b[1;32m   1006\u001b[0m     \u001b[0;32mdef\u001b[0m \u001b[0m_prun_fn\u001b[0m\u001b[0;34m(\u001b[0m\u001b[0msession\u001b[0m\u001b[0;34m,\u001b[0m \u001b[0mhandle\u001b[0m\u001b[0;34m,\u001b[0m \u001b[0mfeed_dict\u001b[0m\u001b[0;34m,\u001b[0m \u001b[0mfetch_list\u001b[0m\u001b[0;34m)\u001b[0m\u001b[0;34m:\u001b[0m\u001b[0;34m\u001b[0m\u001b[0m\n",
      "\u001b[0;31mKeyboardInterrupt\u001b[0m: "
     ]
    }
   ],
   "source": [
    "\n",
    "cross_entropy = tf.reduce_mean(\n",
    "    tf.nn.softmax_cross_entropy_with_logits(labels=y_, logits=y_conv))\n",
    "\n",
    "train_step = tf.train.AdamOptimizer(1e-4).minimize(cross_entropy)\n",
    "# train_step = tf.train.GradientDescentOptimizer(0.5).minimize(cross_entropy)\n",
    "correct_prediction = tf.equal(tf.argmax(y_conv,1), tf.argmax(y_,1))\n",
    "accuracy = tf.reduce_mean(tf.cast(correct_prediction, tf.float32))\n",
    "sess = tf.InteractiveSession()\n",
    "tf.global_variables_initializer().run()\n",
    "count = 0\n",
    "\n",
    "while count < num_it:\n",
    "    try:\n",
    "        sample = table.sample(batch_size)\n",
    "        arr = np.array(sample.rows)\n",
    "        features = arr[:,:num_words]\n",
    "        genre = arr[:, num_words:]\n",
    "        if count%5 == 0:\n",
    "            _, train_accuracy = sess.run([train_step, accuracy], feed_dict={\n",
    "                            x:features, y_: genre, keep_prob: .2})\n",
    "            print(\"step %d, training accuracy %g\"%(count, train_accuracy))\n",
    "        else:\n",
    "            _ = sess.run(train_step, feed_dict={\n",
    "                            x: features, y_: genre, keep_prob: .2})\n",
    "            print(\"step\", count)\n",
    "    except tf.errors.OutOfRangeError:\n",
    "        break\n",
    "    count+=1"
   ]
  },
  {
   "cell_type": "code",
   "execution_count": null,
   "metadata": {
    "collapsed": false
   },
   "outputs": [],
   "source": [
    "correct_prediction = tf.equal(tf.argmax(y_conv, 1), tf.argmax(y_, 1))\n",
    "accuracy = tf.reduce_mean(tf.cast(correct_prediction, tf.float32))\n",
    "print(sess.run(accuracy, feed_dict={x: trainX , y_: trainY , keep_prob: 1.0}))"
   ]
  },
  {
   "cell_type": "code",
   "execution_count": null,
   "metadata": {
    "collapsed": false
   },
   "outputs": [],
   "source": [
    "hCoun = np.array([])\n",
    "hHip = np.array([])\n",
    "prediction=tf.argmax(y_conv,1)\n",
    "pred_arr = np.array(prediction.eval(feed_dict={x: trainX, keep_prob: 1.0}, session=sess))\n",
    "print (\"predictions\", pred_arr)"
   ]
  },
  {
   "cell_type": "code",
   "execution_count": null,
   "metadata": {
    "collapsed": false
   },
   "outputs": [],
   "source": [
    "probabilities=y_conv\n",
    "print (\"probabilities\", probabilities.eval(feed_dict={x: trainX, keep_prob: 1.0}, session=sess))"
   ]
  },
  {
   "cell_type": "code",
   "execution_count": null,
   "metadata": {
    "collapsed": false
   },
   "outputs": [],
   "source": [
    "arr = np.array(table.rows)"
   ]
  },
  {
   "cell_type": "code",
   "execution_count": 75,
   "metadata": {
    "collapsed": false
   },
   "outputs": [
    {
     "data": {
      "text/plain": [
       "0.51481694"
      ]
     },
     "execution_count": 75,
     "metadata": {},
     "output_type": "execute_result"
    }
   ],
   "source": []
  },
  {
   "cell_type": "code",
   "execution_count": null,
   "metadata": {
    "collapsed": true
   },
   "outputs": [],
   "source": []
  }
 ],
 "metadata": {
  "anaconda-cloud": {},
  "kernelspec": {
   "display_name": "Python 3",
   "language": "python",
   "name": "python3"
  },
  "language_info": {
   "codemirror_mode": {
    "name": "ipython",
    "version": 3
   },
   "file_extension": ".py",
   "mimetype": "text/x-python",
   "name": "python",
   "nbconvert_exporter": "python",
   "pygments_lexer": "ipython3",
   "version": "3.6.0"
  }
 },
 "nbformat": 4,
 "nbformat_minor": 1
}
